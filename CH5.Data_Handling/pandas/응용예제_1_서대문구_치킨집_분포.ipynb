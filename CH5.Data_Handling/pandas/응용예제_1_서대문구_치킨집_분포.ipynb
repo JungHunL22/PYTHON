{
 "cells": [
  {
   "cell_type": "markdown",
   "id": "9b3e3700",
   "metadata": {},
   "source": [
    "### 자료 출처\n",
    "- 데이터 다운로드 : LOCALDATA 웹 사이트 \n",
    "- http://www.localdata.kr/\n",
    "- 지방자치단체에서 인/허가한 업종별 데이터 제공\n",
    "- 문화, 체육, 관광, 식품 등 11가지 분야에 걸쳐 다양한 데이터 검색 가능\n",
    "- 회원 가입 절차를 별도로 거치지 않고도 공공데이터 다운로드 할 수 있음\n"
   ]
  },
  {
   "cell_type": "code",
   "execution_count": 2,
   "id": "72799874",
   "metadata": {},
   "outputs": [],
   "source": [
    "# 필요한 모듈 import\n",
    "import pandas as pd\n",
    "import numpy as np\n",
    "import matplotlib.pyplot as plt\n",
    "%matplotlib inline\n",
    "\n",
    "# 한글 문제\n",
    "# matplotlit의 기본 폰트에서 한글 지원되지 않기 때문에\n",
    "# matplotlib의 폰트 변경 필요\n",
    "import platform\n",
    "\n",
    "from matplotlib import font_manager, rc\n",
    "plt.rcParams['axes.unicode_minus'] = False\n",
    "\n",
    "if platform.system() == 'Darwin':  # 맥OS \n",
    "    rc('font', family='AppleGothic')\n",
    "elif platform.system() == 'Windows':  # 윈도우\n",
    "    path = \"c:/Windows/Fonts/malgun.ttf\"\n",
    "    font_name = font_manager.FontProperties(fname=path).get_name()\n",
    "    rc('font', family=font_name)\n",
    "else:\n",
    "    print('Unknown system...  sorry~~~')\n"
   ]
  },
  {
   "cell_type": "markdown",
   "id": "59c17d6f",
   "metadata": {},
   "source": [
    "- UnicodeDecodeError: 'utf-8' codec can't decode byte 0xb9 in position 1: invalid start byte\n",
    "-  해결법 : 한글처리 방식 (cp949)\n",
    "\n",
    "- DtypeWarning: Columns (22,27,39,41,44,45) have mixed types. Specify dtype option on import or set low_memory=False.\n",
    "- 여러타입의 데이터가 들어갔을 때 뜨는 경고\n",
    "- low_memory=False"
   ]
  },
  {
   "cell_type": "code",
   "execution_count": 3,
   "id": "ec7fc7f4",
   "metadata": {
    "scrolled": true
   },
   "outputs": [],
   "source": [
    "data=pd.read_csv('./data/서울특별시_일반음식점.csv',encoding='cp949',low_memory=False)\n"
   ]
  },
  {
   "cell_type": "code",
   "execution_count": 4,
   "id": "21e1f401",
   "metadata": {},
   "outputs": [
    {
     "data": {
      "text/html": [
       "<div>\n",
       "<style scoped>\n",
       "    .dataframe tbody tr th:only-of-type {\n",
       "        vertical-align: middle;\n",
       "    }\n",
       "\n",
       "    .dataframe tbody tr th {\n",
       "        vertical-align: top;\n",
       "    }\n",
       "\n",
       "    .dataframe thead th {\n",
       "        text-align: right;\n",
       "    }\n",
       "</style>\n",
       "<table border=\"1\" class=\"dataframe\">\n",
       "  <thead>\n",
       "    <tr style=\"text-align: right;\">\n",
       "      <th></th>\n",
       "      <th>번호</th>\n",
       "      <th>개방서비스명</th>\n",
       "      <th>개방서비스아이디</th>\n",
       "      <th>개방자치단체코드</th>\n",
       "      <th>관리번호</th>\n",
       "      <th>인허가일자</th>\n",
       "      <th>인허가취소일자</th>\n",
       "      <th>영업상태구분코드</th>\n",
       "      <th>영업상태명</th>\n",
       "      <th>상세영업상태코드</th>\n",
       "      <th>...</th>\n",
       "      <th>공장생산직종업원수</th>\n",
       "      <th>건물소유구분명</th>\n",
       "      <th>보증액</th>\n",
       "      <th>월세액</th>\n",
       "      <th>다중이용업소여부</th>\n",
       "      <th>시설총규모</th>\n",
       "      <th>전통업소지정번호</th>\n",
       "      <th>전통업소주된음식</th>\n",
       "      <th>홈페이지</th>\n",
       "      <th>Unnamed: 47</th>\n",
       "    </tr>\n",
       "  </thead>\n",
       "  <tbody>\n",
       "    <tr>\n",
       "      <th>472913</th>\n",
       "      <td>472914</td>\n",
       "      <td>일반음식점</td>\n",
       "      <td>07_24_04_P</td>\n",
       "      <td>3150000</td>\n",
       "      <td>3150000-101-2021-00072</td>\n",
       "      <td>20210203</td>\n",
       "      <td>NaN</td>\n",
       "      <td>3</td>\n",
       "      <td>폐업</td>\n",
       "      <td>2</td>\n",
       "      <td>...</td>\n",
       "      <td>0.0</td>\n",
       "      <td>NaN</td>\n",
       "      <td>0.0</td>\n",
       "      <td>0</td>\n",
       "      <td>N</td>\n",
       "      <td>75.60</td>\n",
       "      <td>NaN</td>\n",
       "      <td>NaN</td>\n",
       "      <td>NaN</td>\n",
       "      <td>NaN</td>\n",
       "    </tr>\n",
       "    <tr>\n",
       "      <th>472914</th>\n",
       "      <td>472915</td>\n",
       "      <td>일반음식점</td>\n",
       "      <td>07_24_04_P</td>\n",
       "      <td>3130000</td>\n",
       "      <td>3130000-101-2020-01013</td>\n",
       "      <td>20201208</td>\n",
       "      <td>NaN</td>\n",
       "      <td>3</td>\n",
       "      <td>폐업</td>\n",
       "      <td>2</td>\n",
       "      <td>...</td>\n",
       "      <td>0.0</td>\n",
       "      <td>NaN</td>\n",
       "      <td>0.0</td>\n",
       "      <td>0</td>\n",
       "      <td>N</td>\n",
       "      <td>22.75</td>\n",
       "      <td>NaN</td>\n",
       "      <td>NaN</td>\n",
       "      <td>NaN</td>\n",
       "      <td>NaN</td>\n",
       "    </tr>\n",
       "  </tbody>\n",
       "</table>\n",
       "<p>2 rows × 48 columns</p>\n",
       "</div>"
      ],
      "text/plain": [
       "            번호 개방서비스명    개방서비스아이디  개방자치단체코드                    관리번호     인허가일자  \\\n",
       "472913  472914  일반음식점  07_24_04_P   3150000  3150000-101-2021-00072  20210203   \n",
       "472914  472915  일반음식점  07_24_04_P   3130000  3130000-101-2020-01013  20201208   \n",
       "\n",
       "        인허가취소일자  영업상태구분코드 영업상태명  상세영업상태코드  ... 공장생산직종업원수  건물소유구분명  보증액  월세액  \\\n",
       "472913      NaN         3    폐업         2  ...       0.0      NaN  0.0    0   \n",
       "472914      NaN         3    폐업         2  ...       0.0      NaN  0.0    0   \n",
       "\n",
       "        다중이용업소여부  시설총규모 전통업소지정번호  전통업소주된음식 홈페이지 Unnamed: 47  \n",
       "472913         N  75.60      NaN       NaN  NaN         NaN  \n",
       "472914         N  22.75      NaN       NaN  NaN         NaN  \n",
       "\n",
       "[2 rows x 48 columns]"
      ]
     },
     "execution_count": 4,
     "metadata": {},
     "output_type": "execute_result"
    }
   ],
   "source": [
    "data.head(2)\n",
    "data.tail(2)"
   ]
  },
  {
   "cell_type": "code",
   "execution_count": 5,
   "id": "02cac931",
   "metadata": {
    "scrolled": false
   },
   "outputs": [
    {
     "name": "stdout",
     "output_type": "stream",
     "text": [
      "<class 'pandas.core.frame.DataFrame'>\n",
      "RangeIndex: 472915 entries, 0 to 472914\n",
      "Data columns (total 48 columns):\n",
      " #   Column       Non-Null Count   Dtype  \n",
      "---  ------       --------------   -----  \n",
      " 0   번호           472915 non-null  int64  \n",
      " 1   개방서비스명       472915 non-null  object \n",
      " 2   개방서비스아이디     472915 non-null  object \n",
      " 3   개방자치단체코드     472915 non-null  int64  \n",
      " 4   관리번호         472915 non-null  object \n",
      " 5   인허가일자        472915 non-null  int64  \n",
      " 6   인허가취소일자      0 non-null       float64\n",
      " 7   영업상태구분코드     472915 non-null  int64  \n",
      " 8   영업상태명        472915 non-null  object \n",
      " 9   상세영업상태코드     472915 non-null  int64  \n",
      " 10  상세영업상태명      472915 non-null  object \n",
      " 11  폐업일자         348707 non-null  float64\n",
      " 12  휴업시작일자       0 non-null       float64\n",
      " 13  휴업종료일자       0 non-null       float64\n",
      " 14  재개업일자        0 non-null       float64\n",
      " 15  소재지전화        327325 non-null  object \n",
      " 16  소재지면적        439015 non-null  object \n",
      " 17  소재지우편번호      472670 non-null  float64\n",
      " 18  소재지전체주소      472678 non-null  object \n",
      " 19  도로명전체주소      223302 non-null  object \n",
      " 20  도로명우편번호      219658 non-null  float64\n",
      " 21  사업장명         472914 non-null  object \n",
      " 22  최종수정시점       472915 non-null  object \n",
      " 23  데이터갱신구분      472915 non-null  object \n",
      " 24  데이터갱신일자      472915 non-null  object \n",
      " 25  업태구분명        472894 non-null  object \n",
      " 26  좌표정보(x)      448086 non-null  float64\n",
      " 27  좌표정보(y)      448086 non-null  object \n",
      " 28  위생업태명        472887 non-null  object \n",
      " 29  남성종사자수       303104 non-null  float64\n",
      " 30  여성종사자수       305258 non-null  float64\n",
      " 31  영업장주변구분명     251574 non-null  object \n",
      " 32  등급구분명        241826 non-null  object \n",
      " 33  급수시설구분명      310208 non-null  object \n",
      " 34  총종업원수        45438 non-null   float64\n",
      " 35  본사종업원수       45531 non-null   float64\n",
      " 36  공장사무직종업원수    45530 non-null   float64\n",
      " 37  공장판매직종업원수    45530 non-null   float64\n",
      " 38  공장생산직종업원수    45530 non-null   float64\n",
      " 39  건물소유구분명      1 non-null       object \n",
      " 40  보증액          45531 non-null   float64\n",
      " 41  월세액          45532 non-null   object \n",
      " 42  다중이용업소여부     472908 non-null  object \n",
      " 43  시설총규모        472908 non-null  float64\n",
      " 44  전통업소지정번호     1729 non-null    object \n",
      " 45  전통업소주된음식     912 non-null     object \n",
      " 46  홈페이지         0 non-null       float64\n",
      " 47  Unnamed: 47  0 non-null       float64\n",
      "dtypes: float64(19), int64(5), object(24)\n",
      "memory usage: 173.2+ MB\n"
     ]
    }
   ],
   "source": [
    "# 데이터 개요 확인\n",
    "data.info()"
   ]
  },
  {
   "cell_type": "markdown",
   "id": "68bb37d0",
   "metadata": {},
   "source": [
    "## contain함수\n",
    "- 추출한 문자열 중에서 포함된 문자가 있는지 여부(True/False)\n",
    "- 문자열이 아닌 NaN 에 대입하면 에러발생할 수 있으므로 na=False 파라미터 설정해야 험\n"
   ]
  },
  {
   "cell_type": "code",
   "execution_count": 14,
   "id": "5c00377c",
   "metadata": {},
   "outputs": [
    {
     "data": {
      "text/plain": [
       "{'통닭(치킨)', '호프/통닭'}"
      ]
     },
     "execution_count": 14,
     "metadata": {},
     "output_type": "execute_result"
    }
   ],
   "source": [
    "# 필요한 컬럼만 추출\n",
    "#set(data.위생업태명.values)\n",
    "set(data.위생업태명[data.위생업태명.str.contains('통닭|치킨',na=False)])"
   ]
  },
  {
   "cell_type": "code",
   "execution_count": 15,
   "id": "c75a614a",
   "metadata": {
    "scrolled": true
   },
   "outputs": [
    {
     "data": {
      "text/plain": [
       "{'영업/정상', '폐업'}"
      ]
     },
     "execution_count": 15,
     "metadata": {},
     "output_type": "execute_result"
    }
   ],
   "source": [
    "# 현재 영업중인 경우 영업상태명 확인\n",
    "set(data.영업상태명)"
   ]
  },
  {
   "cell_type": "code",
   "execution_count": 16,
   "id": "99535446",
   "metadata": {},
   "outputs": [
    {
     "data": {
      "text/plain": [
       "0         False\n",
       "1         False\n",
       "2         False\n",
       "3         False\n",
       "4         False\n",
       "          ...  \n",
       "472910    False\n",
       "472911    False\n",
       "472912    False\n",
       "472913    False\n",
       "472914    False\n",
       "Length: 472915, dtype: bool"
      ]
     },
     "execution_count": 16,
     "metadata": {},
     "output_type": "execute_result"
    }
   ],
   "source": [
    "# 영어방태명이 영업/정상이고 위생업태명이 '통닭(치킨)'or'호프/통닭'인\n",
    "#  data만 추출(조건 인덱싱)\n",
    "# isin은 여러 조건식을 넣어 추출할 때 사용 1개라도 일치하면 True\n",
    "# 시리즈 함수 .isin([데이터1,데이터2])\n",
    "(data.영업상태명=='영업/정상') & data.위생업태명.isin(['통닭(치킨)','호프/통닭'])"
   ]
  },
  {
   "cell_type": "code",
   "execution_count": 17,
   "id": "23b4881f",
   "metadata": {},
   "outputs": [],
   "source": [
    "data_fin=data[(data.영업상태명=='영업/정상') & data.위생업태명.isin(['통닭(치킨)','호프/통닭'])]\n"
   ]
  },
  {
   "cell_type": "code",
   "execution_count": 18,
   "id": "9a4855f2",
   "metadata": {
    "scrolled": true
   },
   "outputs": [
    {
     "data": {
      "text/html": [
       "<div>\n",
       "<style scoped>\n",
       "    .dataframe tbody tr th:only-of-type {\n",
       "        vertical-align: middle;\n",
       "    }\n",
       "\n",
       "    .dataframe tbody tr th {\n",
       "        vertical-align: top;\n",
       "    }\n",
       "\n",
       "    .dataframe thead th {\n",
       "        text-align: right;\n",
       "    }\n",
       "</style>\n",
       "<table border=\"1\" class=\"dataframe\">\n",
       "  <thead>\n",
       "    <tr style=\"text-align: right;\">\n",
       "      <th></th>\n",
       "      <th>번호</th>\n",
       "      <th>개방서비스명</th>\n",
       "      <th>개방서비스아이디</th>\n",
       "      <th>개방자치단체코드</th>\n",
       "      <th>관리번호</th>\n",
       "      <th>인허가일자</th>\n",
       "      <th>인허가취소일자</th>\n",
       "      <th>영업상태구분코드</th>\n",
       "      <th>영업상태명</th>\n",
       "      <th>상세영업상태코드</th>\n",
       "      <th>...</th>\n",
       "      <th>공장생산직종업원수</th>\n",
       "      <th>건물소유구분명</th>\n",
       "      <th>보증액</th>\n",
       "      <th>월세액</th>\n",
       "      <th>다중이용업소여부</th>\n",
       "      <th>시설총규모</th>\n",
       "      <th>전통업소지정번호</th>\n",
       "      <th>전통업소주된음식</th>\n",
       "      <th>홈페이지</th>\n",
       "      <th>Unnamed: 47</th>\n",
       "    </tr>\n",
       "  </thead>\n",
       "  <tbody>\n",
       "    <tr>\n",
       "      <th>124130</th>\n",
       "      <td>124131</td>\n",
       "      <td>일반음식점</td>\n",
       "      <td>07_24_04_P</td>\n",
       "      <td>3120000</td>\n",
       "      <td>3120000-101-2021-00031</td>\n",
       "      <td>20210122</td>\n",
       "      <td>NaN</td>\n",
       "      <td>1</td>\n",
       "      <td>영업/정상</td>\n",
       "      <td>1</td>\n",
       "      <td>...</td>\n",
       "      <td>NaN</td>\n",
       "      <td>NaN</td>\n",
       "      <td>NaN</td>\n",
       "      <td>NaN</td>\n",
       "      <td>N</td>\n",
       "      <td>49.34</td>\n",
       "      <td>NaN</td>\n",
       "      <td>NaN</td>\n",
       "      <td>NaN</td>\n",
       "      <td>NaN</td>\n",
       "    </tr>\n",
       "    <tr>\n",
       "      <th>124151</th>\n",
       "      <td>124152</td>\n",
       "      <td>일반음식점</td>\n",
       "      <td>07_24_04_P</td>\n",
       "      <td>3160000</td>\n",
       "      <td>3160000-101-2020-00384</td>\n",
       "      <td>20201208</td>\n",
       "      <td>NaN</td>\n",
       "      <td>1</td>\n",
       "      <td>영업/정상</td>\n",
       "      <td>1</td>\n",
       "      <td>...</td>\n",
       "      <td>NaN</td>\n",
       "      <td>NaN</td>\n",
       "      <td>NaN</td>\n",
       "      <td>NaN</td>\n",
       "      <td>N</td>\n",
       "      <td>33.00</td>\n",
       "      <td>NaN</td>\n",
       "      <td>NaN</td>\n",
       "      <td>NaN</td>\n",
       "      <td>NaN</td>\n",
       "    </tr>\n",
       "    <tr>\n",
       "      <th>124171</th>\n",
       "      <td>124172</td>\n",
       "      <td>일반음식점</td>\n",
       "      <td>07_24_04_P</td>\n",
       "      <td>3200000</td>\n",
       "      <td>3200000-101-2020-00626</td>\n",
       "      <td>20201209</td>\n",
       "      <td>NaN</td>\n",
       "      <td>1</td>\n",
       "      <td>영업/정상</td>\n",
       "      <td>1</td>\n",
       "      <td>...</td>\n",
       "      <td>NaN</td>\n",
       "      <td>NaN</td>\n",
       "      <td>NaN</td>\n",
       "      <td>NaN</td>\n",
       "      <td>N</td>\n",
       "      <td>62.80</td>\n",
       "      <td>NaN</td>\n",
       "      <td>NaN</td>\n",
       "      <td>NaN</td>\n",
       "      <td>NaN</td>\n",
       "    </tr>\n",
       "    <tr>\n",
       "      <th>124193</th>\n",
       "      <td>124194</td>\n",
       "      <td>일반음식점</td>\n",
       "      <td>07_24_04_P</td>\n",
       "      <td>3060000</td>\n",
       "      <td>3060000-101-2021-00028</td>\n",
       "      <td>20210203</td>\n",
       "      <td>NaN</td>\n",
       "      <td>1</td>\n",
       "      <td>영업/정상</td>\n",
       "      <td>1</td>\n",
       "      <td>...</td>\n",
       "      <td>NaN</td>\n",
       "      <td>NaN</td>\n",
       "      <td>NaN</td>\n",
       "      <td>NaN</td>\n",
       "      <td>N</td>\n",
       "      <td>53.84</td>\n",
       "      <td>NaN</td>\n",
       "      <td>NaN</td>\n",
       "      <td>NaN</td>\n",
       "      <td>NaN</td>\n",
       "    </tr>\n",
       "    <tr>\n",
       "      <th>124203</th>\n",
       "      <td>124204</td>\n",
       "      <td>일반음식점</td>\n",
       "      <td>07_24_04_P</td>\n",
       "      <td>3080000</td>\n",
       "      <td>3080000-101-2021-00015</td>\n",
       "      <td>20210122</td>\n",
       "      <td>NaN</td>\n",
       "      <td>1</td>\n",
       "      <td>영업/정상</td>\n",
       "      <td>1</td>\n",
       "      <td>...</td>\n",
       "      <td>NaN</td>\n",
       "      <td>NaN</td>\n",
       "      <td>NaN</td>\n",
       "      <td>NaN</td>\n",
       "      <td>N</td>\n",
       "      <td>40.00</td>\n",
       "      <td>NaN</td>\n",
       "      <td>NaN</td>\n",
       "      <td>NaN</td>\n",
       "      <td>NaN</td>\n",
       "    </tr>\n",
       "  </tbody>\n",
       "</table>\n",
       "<p>5 rows × 48 columns</p>\n",
       "</div>"
      ],
      "text/plain": [
       "            번호 개방서비스명    개방서비스아이디  개방자치단체코드                    관리번호     인허가일자  \\\n",
       "124130  124131  일반음식점  07_24_04_P   3120000  3120000-101-2021-00031  20210122   \n",
       "124151  124152  일반음식점  07_24_04_P   3160000  3160000-101-2020-00384  20201208   \n",
       "124171  124172  일반음식점  07_24_04_P   3200000  3200000-101-2020-00626  20201209   \n",
       "124193  124194  일반음식점  07_24_04_P   3060000  3060000-101-2021-00028  20210203   \n",
       "124203  124204  일반음식점  07_24_04_P   3080000  3080000-101-2021-00015  20210122   \n",
       "\n",
       "        인허가취소일자  영업상태구분코드  영업상태명  상세영업상태코드  ... 공장생산직종업원수  건물소유구분명  보증액  월세액  \\\n",
       "124130      NaN         1  영업/정상         1  ...       NaN      NaN  NaN  NaN   \n",
       "124151      NaN         1  영업/정상         1  ...       NaN      NaN  NaN  NaN   \n",
       "124171      NaN         1  영업/정상         1  ...       NaN      NaN  NaN  NaN   \n",
       "124193      NaN         1  영업/정상         1  ...       NaN      NaN  NaN  NaN   \n",
       "124203      NaN         1  영업/정상         1  ...       NaN      NaN  NaN  NaN   \n",
       "\n",
       "        다중이용업소여부  시설총규모 전통업소지정번호  전통업소주된음식 홈페이지 Unnamed: 47  \n",
       "124130         N  49.34      NaN       NaN  NaN         NaN  \n",
       "124151         N  33.00      NaN       NaN  NaN         NaN  \n",
       "124171         N  62.80      NaN       NaN  NaN         NaN  \n",
       "124193         N  53.84      NaN       NaN  NaN         NaN  \n",
       "124203         N  40.00      NaN       NaN  NaN         NaN  \n",
       "\n",
       "[5 rows x 48 columns]"
      ]
     },
     "execution_count": 18,
     "metadata": {},
     "output_type": "execute_result"
    }
   ],
   "source": [
    "data_fin.head()\n",
    "data_fin.tail()\n"
   ]
  },
  {
   "cell_type": "code",
   "execution_count": 19,
   "id": "c6a9ca55",
   "metadata": {},
   "outputs": [
    {
     "data": {
      "text/plain": [
       "{'통닭(치킨)', '호프/통닭'}"
      ]
     },
     "execution_count": 19,
     "metadata": {},
     "output_type": "execute_result"
    }
   ],
   "source": [
    "# 위생업태명\n",
    "data_fin.위생업태명.head()\n",
    "set(data_fin.위생업태명)"
   ]
  },
  {
   "cell_type": "code",
   "execution_count": 20,
   "id": "152b51e7",
   "metadata": {},
   "outputs": [
    {
     "name": "stdout",
     "output_type": "stream",
     "text": [
      "<class 'pandas.core.frame.DataFrame'>\n",
      "Int64Index: 13110 entries, 30 to 124203\n",
      "Data columns (total 48 columns):\n",
      " #   Column       Non-Null Count  Dtype  \n",
      "---  ------       --------------  -----  \n",
      " 0   번호           13110 non-null  int64  \n",
      " 1   개방서비스명       13110 non-null  object \n",
      " 2   개방서비스아이디     13110 non-null  object \n",
      " 3   개방자치단체코드     13110 non-null  int64  \n",
      " 4   관리번호         13110 non-null  object \n",
      " 5   인허가일자        13110 non-null  int64  \n",
      " 6   인허가취소일자      0 non-null      float64\n",
      " 7   영업상태구분코드     13110 non-null  int64  \n",
      " 8   영업상태명        13110 non-null  object \n",
      " 9   상세영업상태코드     13110 non-null  int64  \n",
      " 10  상세영업상태명      13110 non-null  object \n",
      " 11  폐업일자         0 non-null      float64\n",
      " 12  휴업시작일자       0 non-null      float64\n",
      " 13  휴업종료일자       0 non-null      float64\n",
      " 14  재개업일자        0 non-null      float64\n",
      " 15  소재지전화        6536 non-null   object \n",
      " 16  소재지면적        12677 non-null  object \n",
      " 17  소재지우편번호      13103 non-null  float64\n",
      " 18  소재지전체주소      13103 non-null  object \n",
      " 19  도로명전체주소      12970 non-null  object \n",
      " 20  도로명우편번호      12884 non-null  float64\n",
      " 21  사업장명         13110 non-null  object \n",
      " 22  최종수정시점       13110 non-null  object \n",
      " 23  데이터갱신구분      13110 non-null  object \n",
      " 24  데이터갱신일자      13110 non-null  object \n",
      " 25  업태구분명        13110 non-null  object \n",
      " 26  좌표정보(x)      13020 non-null  float64\n",
      " 27  좌표정보(y)      13020 non-null  object \n",
      " 28  위생업태명        13110 non-null  object \n",
      " 29  남성종사자수       5733 non-null   float64\n",
      " 30  여성종사자수       5750 non-null   float64\n",
      " 31  영업장주변구분명     3363 non-null   object \n",
      " 32  등급구분명        3005 non-null   object \n",
      " 33  급수시설구분명      6287 non-null   object \n",
      " 34  총종업원수        1773 non-null   float64\n",
      " 35  본사종업원수       1777 non-null   float64\n",
      " 36  공장사무직종업원수    1777 non-null   float64\n",
      " 37  공장판매직종업원수    1777 non-null   float64\n",
      " 38  공장생산직종업원수    1777 non-null   float64\n",
      " 39  건물소유구분명      1 non-null      object \n",
      " 40  보증액          1777 non-null   float64\n",
      " 41  월세액          1777 non-null   object \n",
      " 42  다중이용업소여부     13110 non-null  object \n",
      " 43  시설총규모        13110 non-null  float64\n",
      " 44  전통업소지정번호     6 non-null      object \n",
      " 45  전통업소주된음식     2 non-null      object \n",
      " 46  홈페이지         0 non-null      float64\n",
      " 47  Unnamed: 47  0 non-null      float64\n",
      "dtypes: float64(19), int64(5), object(24)\n",
      "memory usage: 4.9+ MB\n"
     ]
    }
   ],
   "source": [
    "data_fin.info()"
   ]
  },
  {
   "cell_type": "code",
   "execution_count": 31,
   "id": "0b8f529c",
   "metadata": {},
   "outputs": [
    {
     "data": {
      "text/html": [
       "<div>\n",
       "<style scoped>\n",
       "    .dataframe tbody tr th:only-of-type {\n",
       "        vertical-align: middle;\n",
       "    }\n",
       "\n",
       "    .dataframe tbody tr th {\n",
       "        vertical-align: top;\n",
       "    }\n",
       "\n",
       "    .dataframe thead th {\n",
       "        text-align: right;\n",
       "    }\n",
       "</style>\n",
       "<table border=\"1\" class=\"dataframe\">\n",
       "  <thead>\n",
       "    <tr style=\"text-align: right;\">\n",
       "      <th></th>\n",
       "      <th>소재지전체주소</th>\n",
       "      <th>위생업태명</th>\n",
       "    </tr>\n",
       "  </thead>\n",
       "  <tbody>\n",
       "    <tr>\n",
       "      <th>30</th>\n",
       "      <td>서울특별시 은평구 갈현동 400-9번지 (지하1층)</td>\n",
       "      <td>호프/통닭</td>\n",
       "    </tr>\n",
       "    <tr>\n",
       "      <th>43</th>\n",
       "      <td>서울특별시 영등포구 양평동3가 101번지 현대아파트 상가내 1층 102호</td>\n",
       "      <td>호프/통닭</td>\n",
       "    </tr>\n",
       "    <tr>\n",
       "      <th>44</th>\n",
       "      <td>서울특별시 중구 필동2가 32-24번지 1층</td>\n",
       "      <td>호프/통닭</td>\n",
       "    </tr>\n",
       "    <tr>\n",
       "      <th>66</th>\n",
       "      <td>서울특별시 종로구 당주동 128-17번지 (지상1층)</td>\n",
       "      <td>호프/통닭</td>\n",
       "    </tr>\n",
       "    <tr>\n",
       "      <th>67</th>\n",
       "      <td>서울특별시 서초구 우면동 59번지 105호</td>\n",
       "      <td>호프/통닭</td>\n",
       "    </tr>\n",
       "  </tbody>\n",
       "</table>\n",
       "</div>"
      ],
      "text/plain": [
       "                                     소재지전체주소  위생업태명\n",
       "30              서울특별시 은평구 갈현동 400-9번지 (지하1층)  호프/통닭\n",
       "43  서울특별시 영등포구 양평동3가 101번지 현대아파트 상가내 1층 102호  호프/통닭\n",
       "44                  서울특별시 중구 필동2가 32-24번지 1층  호프/통닭\n",
       "66             서울특별시 종로구 당주동 128-17번지 (지상1층)  호프/통닭\n",
       "67                   서울특별시 서초구 우면동 59번지 105호  호프/통닭"
      ]
     },
     "execution_count": 31,
     "metadata": {},
     "output_type": "execute_result"
    }
   ],
   "source": [
    "# 서대문구 데이터만 추출\n",
    "# 서대문구 각 동에 치킨칩이 몇 개 있는지\n",
    "# 필요 컬럼(소재지전체주소, 위생업태명)\n",
    "data_fin=data_fin[['소재지전체주소','위생업태명']]\n",
    "data_fin.head()"
   ]
  },
  {
   "cell_type": "code",
   "execution_count": 32,
   "id": "9cc6f9b4",
   "metadata": {},
   "outputs": [
    {
     "name": "stdout",
     "output_type": "stream",
     "text": [
      "<class 'pandas.core.frame.DataFrame'>\n",
      "Int64Index: 13110 entries, 30 to 124203\n",
      "Data columns (total 2 columns):\n",
      " #   Column   Non-Null Count  Dtype \n",
      "---  ------   --------------  ----- \n",
      " 0   소재지전체주소  13103 non-null  object\n",
      " 1   위생업태명    13110 non-null  object\n",
      "dtypes: object(2)\n",
      "memory usage: 307.3+ KB\n"
     ]
    }
   ],
   "source": [
    "data_fin.info()"
   ]
  },
  {
   "cell_type": "code",
   "execution_count": 26,
   "id": "18359812",
   "metadata": {},
   "outputs": [
    {
     "data": {
      "text/plain": [
       "30        False\n",
       "43        False\n",
       "44        False\n",
       "66        False\n",
       "67        False\n",
       "          ...  \n",
       "124130     True\n",
       "124151    False\n",
       "124171    False\n",
       "124193    False\n",
       "124203    False\n",
       "Name: 소재지전체주소, Length: 13110, dtype: bool"
      ]
     },
     "execution_count": 26,
     "metadata": {},
     "output_type": "execute_result"
    }
   ],
   "source": [
    "# data_fim df는 서울시 치킨집 주소 데이터\n",
    "res=data_fin.소재지전체주소.str.contains('서대문구',na=False)\n",
    "res"
   ]
  },
  {
   "cell_type": "code",
   "execution_count": 23,
   "id": "01b2416d",
   "metadata": {},
   "outputs": [
    {
     "name": "stdout",
     "output_type": "stream",
     "text": [
      "<class 'pandas.core.frame.DataFrame'>\n",
      "Int64Index: 400 entries, 178 to 124130\n",
      "Data columns (total 2 columns):\n",
      " #   Column   Non-Null Count  Dtype \n",
      "---  ------   --------------  ----- \n",
      " 0   소재지전체주소  400 non-null    object\n",
      " 1   위생업태명    400 non-null    object\n",
      "dtypes: object(2)\n",
      "memory usage: 9.4+ KB\n"
     ]
    }
   ],
   "source": [
    "data_seo=data_fin[res]\n",
    "data_seo"
   ]
  },
  {
   "cell_type": "code",
   "execution_count": 27,
   "id": "8b5cd980",
   "metadata": {},
   "outputs": [
    {
     "data": {
      "text/plain": [
       "178       창천동 33\n",
       "698       홍제동 45\n",
       "724       남가좌동 3\n",
       "1200      연희동 13\n",
       "1405      창천동 52\n",
       "           ...  \n",
       "122500    남가좌동 3\n",
       "123490    홍제동 30\n",
       "123548    홍제동 96\n",
       "123724    북아현동 1\n",
       "124130    남가좌동 3\n",
       "Name: 소재지전체주소, Length: 400, dtype: object"
      ]
     },
     "execution_count": 27,
     "metadata": {},
     "output_type": "execute_result"
    }
   ],
   "source": [
    "# 소재지전체주소 열에서 XXX동만 남기고 이후 상세 주소는 삭제\n",
    "# 모든 데이터가 서대문구 이므로 동데이터만 남김\n",
    "# 일부 글자만 추출하는 str.slice() 함수 사용\n",
    "# '서울특별시 서대문구 ' 다음 글자에서 'xxx동'까지 추출\n",
    "# 11번째 글자에서 16번째 글자까지 추출\n",
    "addr = data_seo.소재지전체주소.str.slice(start=11,stop=17)\n",
    "addr"
   ]
  },
  {
   "cell_type": "code",
   "execution_count": 47,
   "id": "b1ef9e98",
   "metadata": {
    "scrolled": true
   },
   "outputs": [
    {
     "name": "stderr",
     "output_type": "stream",
     "text": [
      "C:\\Users\\JungHun.DESKTOP-JRGUSS9\\AppData\\Local\\Temp\\ipykernel_13160\\4127667440.py:2: FutureWarning: The default value of regex will change from True to False in a future version.\n",
      "  addr=addr.str.replace('[0-9]','')\n"
     ]
    },
    {
     "data": {
      "text/plain": [
       "178        창천동 \n",
       "698        홍제동 \n",
       "724       남가좌동 \n",
       "1200       연희동 \n",
       "1405       창천동 \n",
       "          ...  \n",
       "122500    남가좌동 \n",
       "123490     홍제동 \n",
       "123548     홍제동 \n",
       "123724    북아현동 \n",
       "124130    남가좌동 \n",
       "Name: 소재지전체주소, Length: 400, dtype: object"
      ]
     },
     "execution_count": 47,
     "metadata": {},
     "output_type": "execute_result"
    }
   ],
   "source": [
    "# 동 뒤에 나온 숫자 제거\n",
    "addr=addr.str.replace('[0-9]','')\n",
    "addr"
   ]
  },
  {
   "cell_type": "code",
   "execution_count": 48,
   "id": "23723969",
   "metadata": {
    "scrolled": true
   },
   "outputs": [
    {
     "data": {
      "text/plain": [
       "178        창천동\n",
       "698        홍제동\n",
       "724       남가좌동\n",
       "1200       연희동\n",
       "1405       창천동\n",
       "          ... \n",
       "122500    남가좌동\n",
       "123490     홍제동\n",
       "123548     홍제동\n",
       "123724    북아현동\n",
       "124130    남가좌동\n",
       "Name: 소재지전체주소, Length: 400, dtype: object"
      ]
     },
     "execution_count": 48,
     "metadata": {},
     "output_type": "execute_result"
    }
   ],
   "source": [
    "# 동 앞뒤의 띄어쓰기 제거\n",
    "addr=addr.str.replace(' ','')\n",
    "addr"
   ]
  },
  {
   "cell_type": "code",
   "execution_count": 51,
   "id": "afac6ce0",
   "metadata": {},
   "outputs": [],
   "source": [
    "addr=addr.str.replace('-','')"
   ]
  },
  {
   "cell_type": "code",
   "execution_count": 53,
   "id": "529188a7",
   "metadata": {},
   "outputs": [],
   "source": [
    "addr=addr.str.replace('옥천동번','옥천동')"
   ]
  },
  {
   "cell_type": "code",
   "execution_count": 55,
   "id": "6aaf87e5",
   "metadata": {},
   "outputs": [],
   "source": [
    "# 동별 치킨집 개수 ( 동 뒤에 -제거)\n",
    "ck_cnt=addr.value_counts()"
   ]
  },
  {
   "cell_type": "code",
   "execution_count": 62,
   "id": "b9bc2a16",
   "metadata": {
    "scrolled": true
   },
   "outputs": [],
   "source": [
    "# 트리맵시각화\n",
    "import squarify\n"
   ]
  },
  {
   "cell_type": "code",
   "execution_count": 60,
   "id": "918a9719",
   "metadata": {},
   "outputs": [
    {
     "name": "stdout",
     "output_type": "stream",
     "text": [
      "Defaulting to user installation because normal site-packages is not writeable\n",
      "Collecting squarify\n",
      "  Downloading squarify-0.4.3-py3-none-any.whl (4.3 kB)\n",
      "Installing collected packages: squarify\n",
      "Successfully installed squarify-0.4.3\n",
      "Note: you may need to restart the kernel to use updated packages.\n"
     ]
    }
   ],
   "source": [
    "%pip install squarify"
   ]
  },
  {
   "cell_type": "code",
   "execution_count": 64,
   "id": "a0218b2f",
   "metadata": {},
   "outputs": [
    {
     "data": {
      "text/plain": [
       "<AxesSubplot:>"
      ]
     },
     "execution_count": 64,
     "metadata": {},
     "output_type": "execute_result"
    },
    {
     "data": {
      "image/png": "[encoded data removed]",
      "text/plain": [
       "<Figure size 432x288 with 1 Axes>"
      ]
     },
     "metadata": {
      "needs_background": "light"
     },
     "output_type": "display_data"
    }
   ],
   "source": [
    "squarify.plot(ck_cnt,label=ck_cnt.index)"
   ]
  }
 ],
 "metadata": {
  "kernelspec": {
   "display_name": "Python 3 (ipykernel)",
   "language": "python",
   "name": "python3"
  },
  "language_info": {
   "codemirror_mode": {
    "name": "ipython",
    "version": 3
   },
   "file_extension": ".py",
   "mimetype": "text/x-python",
   "name": "python",
   "nbconvert_exporter": "python",
   "pygments_lexer": "ipython3",
   "version": "3.9.12"
  }
 },
 "nbformat": 4,
 "nbformat_minor": 5
}
