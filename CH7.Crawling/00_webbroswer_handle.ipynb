{
 "cells": [
  {
   "cell_type": "code",
   "execution_count": 1,
   "id": "4e6665a5",
   "metadata": {},
   "outputs": [],
   "source": [
    "# 파이썬 철저입문 393~"
   ]
  },
  {
   "cell_type": "markdown",
   "id": "d5b966e8",
   "metadata": {},
   "source": [
    "- 웹크롤링은 웹브라우저를 통해 진행 됨\n",
    "    - 웹 브라우저를 컨트롤 할 수 있어야 함\n",
    "    - 관련 패키지 : webbrowser"
   ]
  },
  {
   "cell_type": "code",
   "execution_count": 5,
   "id": "545c396e",
   "metadata": {},
   "outputs": [],
   "source": [
    "# 브라우저를 컨트롤 모듈 import\n",
    "import webbrowser"
   ]
  },
  {
   "cell_type": "markdown",
   "id": "9a5e6415",
   "metadata": {},
   "source": [
    "### 브라우저 실행 : webbrowser.open('url')\n",
    "- 매개변수 : url을 전달( 접속하고자 하는 웹 사이트)\n",
    "    - url은 파라미터를 포함 할 수 있음\n",
    "    - https://search.naver.com/search.naver?where=nexearch&sm=top_hty&fbm=1&ie=utf8&query=python\n",
    "    - https://search.naver.com/search.naver? 검색을 위한 필수 주소\n",
    "\n",
    "- 반환값이 True면 브라우저 실행이 정상 완료\n"
   ]
  },
  {
   "cell_type": "code",
   "execution_count": 7,
   "id": "ff761e25",
   "metadata": {},
   "outputs": [
    {
     "data": {
      "text/plain": [
       "True"
      ]
     },
     "execution_count": 7,
     "metadata": {},
     "output_type": "execute_result"
    }
   ],
   "source": [
    "# 네이버 사이트 브라우저 함수로 접속하기\n",
    "url='www.naver.com' # 네이버 도메인\n",
    "webbrowser.open(url)"
   ]
  },
  {
   "cell_type": "code",
   "execution_count": 9,
   "id": "249ba35a",
   "metadata": {},
   "outputs": [
    {
     "data": {
      "text/plain": [
       "'https://search.naver.com/search.naver?query=django'"
      ]
     },
     "execution_count": 9,
     "metadata": {},
     "output_type": "execute_result"
    }
   ],
   "source": [
    "# 검색어 적용\n",
    "search_url='https://search.naver.com/search.naver?'\n",
    "search= 'query=django'\n",
    "url=search_url+search\n",
    "url"
   ]
  },
  {
   "cell_type": "code",
   "execution_count": 10,
   "id": "c6c04153",
   "metadata": {},
   "outputs": [
    {
     "data": {
      "text/plain": [
       "True"
      ]
     },
     "execution_count": 10,
     "metadata": {},
     "output_type": "execute_result"
    }
   ],
   "source": [
    "webbrowser.open(url)"
   ]
  },
  {
   "cell_type": "markdown",
   "id": "a0233b73",
   "metadata": {},
   "source": [
    "### 검색어를 url에 적용시키는 방법은 site마다 다르다(+브라우저 종속적)\n",
    "- 구글 검색 URL\n",
    "    - https://www.google.com/search?q=python&hl=ko&sxsrf=ALiCzsb7C23gcikU0nWbhVuBMEE7LkkZKA%3A1658795584857&source=hp&ei=QDbfYoyWMorR-QbSpJ6oDA&iflsig=AJiK0e8AAAAAYt9EUDeW6B5OTH-VyVE1ZUvHguf-1DBV&oq=&gs_lcp=Cgdnd3Mtd2l6EAMYADIHCCMQ6gIQJzIHCCMQ6gIQJzIHCCMQ6gIQJzIHCCMQ6gIQJzIHCCMQ6gIQJzIHCCMQ6gIQJzIHCCMQ6gIQJzIHCCMQ6gIQJzIHCCMQ6gIQJzIHCCMQ6gIQJ1AAWABgoQ5oAXAAeACAAQCIAQCSAQCYAQCwAQo&sclient=gws-wiz\n",
    "    - 기본 url : https://www.google.com/search?\n",
    "    - 검색파라미터 : q=검색어"
   ]
  },
  {
   "cell_type": "code",
   "execution_count": 14,
   "id": "e8e3adbd",
   "metadata": {},
   "outputs": [],
   "source": [
    "google_url='https://www.google.com/search?'\n",
    "search='q=django'\n",
    "url=google_url+search"
   ]
  },
  {
   "cell_type": "code",
   "execution_count": 16,
   "id": "b4cfc4fe",
   "metadata": {},
   "outputs": [
    {
     "data": {
      "text/plain": [
       "True"
      ]
     },
     "execution_count": 16,
     "metadata": {},
     "output_type": "execute_result"
    }
   ],
   "source": [
    "# 새탭을 생성\n",
    "webbrowser.open_new(url)"
   ]
  },
  {
   "cell_type": "code",
   "execution_count": 17,
   "id": "7a7ae9c7",
   "metadata": {},
   "outputs": [],
   "source": [
    "# 여러 url에 접속하기 - url list 사용\n",
    "urls=['www.naver.com','www.daum.net','www.google.com']\n",
    "for url in urls:\n",
    "    webbrowser.open(url)"
   ]
  }
 ],
 "metadata": {
  "kernelspec": {
   "display_name": "Python 3 (ipykernel)",
   "language": "python",
   "name": "python3"
  },
  "language_info": {
   "codemirror_mode": {
    "name": "ipython",
    "version": 3
   },
   "file_extension": ".py",
   "mimetype": "text/x-python",
   "name": "python",
   "nbconvert_exporter": "python",
   "pygments_lexer": "ipython3",
   "version": "3.9.12"
  }
 },
 "nbformat": 4,
 "nbformat_minor": 5
}
