{
 "cells": [
  {
   "cell_type": "code",
   "execution_count": 2,
   "id": "013a3f47",
   "metadata": {},
   "outputs": [],
   "source": [
    "# 필요 모듈\n",
    "import requests\n",
    "from bs4 import BeautifulSoup\n",
    "import pandas as pd"
   ]
  },
  {
   "cell_type": "code",
   "execution_count": 3,
   "id": "8cb36df4",
   "metadata": {},
   "outputs": [],
   "source": [
    "k = 'jS2Sp%2FsDbef9xYMgzQtZV150TLkil533twl%2BuHOEyxitaZNE8yfXZVtU%2BZzKwFd4HC%2BaYDBr9aakHfLqn75EQQ%3D%3D'\n",
    "m_os = 'ETC'\n",
    "m_ap = 'AppTest'\n"
   ]
  },
  {
   "cell_type": "code",
   "execution_count": 4,
   "id": "6791429c",
   "metadata": {},
   "outputs": [
    {
     "data": {
      "text/plain": [
       "'http://api.visitkorea.or.kr/openapi/service/rest/KorService/areaCode?ServiceKey=jS2Sp%2FsDbef9xYMgzQtZV150TLkil533twl%2BuHOEyxitaZNE8yfXZVtU%2BZzKwFd4HC%2BaYDBr9aakHfLqn75EQQ%3D%3D&MobileOS=ETC&MobileApp=AppTest&numOfRows=20'"
      ]
     },
     "execution_count": 4,
     "metadata": {},
     "output_type": "execute_result"
    }
   ],
   "source": [
    "# 요청URL\n",
    "endpoint = 'http://api.visitkorea.or.kr/openapi/service/rest/KorService/areaCode?'\n",
    "skey = 'ServiceKey='+ k\n",
    "param = '&MobileOS='+m_os+'&MobileApp='+m_ap+'&numOfRows='+str(20)\n",
    "url = endpoint+skey+param\n",
    "url"
   ]
  },
  {
   "cell_type": "code",
   "execution_count": 5,
   "id": "7a316827",
   "metadata": {},
   "outputs": [
    {
     "data": {
      "text/plain": [
       "<Response [200]>"
      ]
     },
     "execution_count": 5,
     "metadata": {},
     "output_type": "execute_result"
    }
   ],
   "source": [
    "result=requests.get(url)\n",
    "\n",
    "result"
   ]
  },
  {
   "cell_type": "code",
   "execution_count": 6,
   "id": "8e4b6b57",
   "metadata": {
    "scrolled": true
   },
   "outputs": [
    {
     "name": "stderr",
     "output_type": "stream",
     "text": [
      "C:\\ProgramData\\Anaconda3\\lib\\site-packages\\bs4\\builder\\__init__.py:545: XMLParsedAsHTMLWarning: It looks like you're parsing an XML document using an HTML parser. If this really is an HTML document (maybe it's XHTML?), you can ignore or filter this warning. If it's XML, you should know that using an XML parser will be more reliable. To parse this document as XML, make sure you have the lxml package installed, and pass the keyword argument `features=\"xml\"` into the BeautifulSoup constructor.\n",
      "  warnings.warn(\n"
     ]
    },
    {
     "data": {
      "text/plain": [
       "<?xml version=\"1.0\" encoding=\"UTF-8\" standalone=\"yes\"?><response><header><resultcode>0000</resultcode><resultmsg>OK</resultmsg></header><body><items><item><code>1</code><name>서울</name><rnum>1</rnum></item><item><code>2</code><name>인천</name><rnum>2</rnum></item><item><code>3</code><name>대전</name><rnum>3</rnum></item><item><code>4</code><name>대구</name><rnum>4</rnum></item><item><code>5</code><name>광주</name><rnum>5</rnum></item><item><code>6</code><name>부산</name><rnum>6</rnum></item><item><code>7</code><name>울산</name><rnum>7</rnum></item><item><code>8</code><name>세종특별자치시</name><rnum>8</rnum></item><item><code>31</code><name>경기도</name><rnum>9</rnum></item><item><code>32</code><name>강원도</name><rnum>10</rnum></item><item><code>33</code><name>충청북도</name><rnum>11</rnum></item><item><code>34</code><name>충청남도</name><rnum>12</rnum></item><item><code>35</code><name>경상북도</name><rnum>13</rnum></item><item><code>36</code><name>경상남도</name><rnum>14</rnum></item><item><code>37</code><name>전라북도</name><rnum>15</rnum></item><item><code>38</code><name>전라남도</name><rnum>16</rnum></item><item><code>39</code><name>제주도</name><rnum>17</rnum></item></items><numofrows>20</numofrows><pageno>1</pageno><totalcount>17</totalcount></body></response>"
      ]
     },
     "execution_count": 6,
     "metadata": {},
     "output_type": "execute_result"
    }
   ],
   "source": [
    "result.content\n",
    "bs_obj = BeautifulSoup(result.content, \"html.parser\")\n",
    "bs_obj"
   ]
  },
  {
   "cell_type": "code",
   "execution_count": 46,
   "id": "877cd7d8",
   "metadata": {},
   "outputs": [
    {
     "data": {
      "text/plain": [
       "<code>2</code>"
      ]
     },
     "execution_count": 46,
     "metadata": {},
     "output_type": "execute_result"
    }
   ],
   "source": []
  },
  {
   "cell_type": "code",
   "execution_count": 51,
   "id": "cae6d1fd",
   "metadata": {},
   "outputs": [
    {
     "data": {
      "text/plain": [
       "['서울',\n",
       " '인천',\n",
       " '대전',\n",
       " '대구',\n",
       " '광주',\n",
       " '부산',\n",
       " '울산',\n",
       " '세종특별자치시',\n",
       " '경기도',\n",
       " '강원도',\n",
       " '충청북도',\n",
       " '충청남도',\n",
       " '경상북도',\n",
       " '경상남도',\n",
       " '전라북도',\n",
       " '전라남도',\n",
       " '제주도']"
      ]
     },
     "execution_count": 51,
     "metadata": {},
     "output_type": "execute_result"
    }
   ],
   "source": [
    "a=bs_obj.findAll('code')\n",
    "b=bs_obj.findAll('name')\n",
    "num=[i.text for i in a]\n",
    "name=[i.text for i in b]\n",
    "num\n",
    "name"
   ]
  },
  {
   "cell_type": "code",
   "execution_count": 14,
   "id": "f3e91479",
   "metadata": {},
   "outputs": [
    {
     "ename": "AttributeError",
     "evalue": "ResultSet object has no attribute 'text'. You're probably treating a list of elements like a single element. Did you call find_all() when you meant to call find()?",
     "output_type": "error",
     "traceback": [
      "\u001b[1;31m---------------------------------------------------------------------------\u001b[0m",
      "\u001b[1;31mAttributeError\u001b[0m                            Traceback (most recent call last)",
      "Input \u001b[1;32mIn [14]\u001b[0m, in \u001b[0;36m<cell line: 1>\u001b[1;34m()\u001b[0m\n\u001b[1;32m----> 1\u001b[0m pd\u001b[38;5;241m.\u001b[39mDataFrame({\u001b[38;5;124m'\u001b[39m\u001b[38;5;124mnum\u001b[39m\u001b[38;5;124m'\u001b[39m:\u001b[43mbs_obj\u001b[49m\u001b[38;5;241;43m.\u001b[39;49m\u001b[43mfindAll\u001b[49m\u001b[43m(\u001b[49m\u001b[38;5;124;43m'\u001b[39;49m\u001b[38;5;124;43mrnum\u001b[39;49m\u001b[38;5;124;43m'\u001b[39;49m\u001b[43m)\u001b[49m\u001b[38;5;241;43m.\u001b[39;49m\u001b[43mtext\u001b[49m,\u001b[38;5;124m'\u001b[39m\u001b[38;5;124mname\u001b[39m\u001b[38;5;124m'\u001b[39m:bs_obj\u001b[38;5;241m.\u001b[39mfindAll(\u001b[38;5;124m'\u001b[39m\u001b[38;5;124mname\u001b[39m\u001b[38;5;124m'\u001b[39m)})\n",
      "File \u001b[1;32mC:\\ProgramData\\Anaconda3\\lib\\site-packages\\bs4\\element.py:2289\u001b[0m, in \u001b[0;36mResultSet.__getattr__\u001b[1;34m(self, key)\u001b[0m\n\u001b[0;32m   2287\u001b[0m \u001b[38;5;28;01mdef\u001b[39;00m \u001b[38;5;21m__getattr__\u001b[39m(\u001b[38;5;28mself\u001b[39m, key):\n\u001b[0;32m   2288\u001b[0m     \u001b[38;5;124;03m\"\"\"Raise a helpful exception to explain a common code fix.\"\"\"\u001b[39;00m\n\u001b[1;32m-> 2289\u001b[0m     \u001b[38;5;28;01mraise\u001b[39;00m \u001b[38;5;167;01mAttributeError\u001b[39;00m(\n\u001b[0;32m   2290\u001b[0m         \u001b[38;5;124m\"\u001b[39m\u001b[38;5;124mResultSet object has no attribute \u001b[39m\u001b[38;5;124m'\u001b[39m\u001b[38;5;132;01m%s\u001b[39;00m\u001b[38;5;124m'\u001b[39m\u001b[38;5;124m. You\u001b[39m\u001b[38;5;124m'\u001b[39m\u001b[38;5;124mre probably treating a list of elements like a single element. Did you call find_all() when you meant to call find()?\u001b[39m\u001b[38;5;124m\"\u001b[39m \u001b[38;5;241m%\u001b[39m key\n\u001b[0;32m   2291\u001b[0m     )\n",
      "\u001b[1;31mAttributeError\u001b[0m: ResultSet object has no attribute 'text'. You're probably treating a list of elements like a single element. Did you call find_all() when you meant to call find()?"
     ]
    }
   ],
   "source": [
    "pd.DataFrame({'num':bs_obj.findAll('rnum').text,'name':bs_obj.findAll('name')})"
   ]
  }
 ],
 "metadata": {
  "kernelspec": {
   "display_name": "Python 3 (ipykernel)",
   "language": "python",
   "name": "python3"
  },
  "language_info": {
   "codemirror_mode": {
    "name": "ipython",
    "version": 3
   },
   "file_extension": ".py",
   "mimetype": "text/x-python",
   "name": "python",
   "nbconvert_exporter": "python",
   "pygments_lexer": "ipython3",
   "version": "3.9.12"
  }
 },
 "nbformat": 4,
 "nbformat_minor": 5
}
