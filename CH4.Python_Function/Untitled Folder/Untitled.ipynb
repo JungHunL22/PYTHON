{
 "cells": [
  {
   "cell_type": "code",
   "execution_count": 1,
   "id": "26fad8b7",
   "metadata": {},
   "outputs": [
    {
     "name": "stdout",
     "output_type": "stream",
     "text": [
      "출력1 [1, 2, 3, 4]\n",
      "함수내부 출력1 [1, 2, 3, 4]\n",
      "매개변수 my_list의 id :  2137822060672\n",
      "함수내부 출력2 [10, 2, 3, 4]\n",
      "출력2 [10, 2, 3, 4]\n",
      "전역변수 my_list의 id :  2137822060672\n"
     ]
    }
   ],
   "source": [
    "#리스트를 함수에 인수로 전달 시 알아야 할 사항\n",
    "#함수정의\n",
    "def show_list(my_list1):\n",
    "    print(\"함수내부 출력1\", my_list1) #지역변수 my_list\n",
    "    print(\"매개변수 my_list의 id : \", id(my_list1))\n",
    "    my_list[0]=10 #my_list의 첫번째요소 부분 변경\n",
    "    print(\"함수내부 출력2\", my_list1) #10,2,3,4달\n",
    "\n",
    "    #호출테스트\n",
    "my_list=[1,2,3,4] #리스트생성\n",
    "print(\"출력1\", my_list)\n",
    "show_list(my_list) #리스트를 인수로 전달\n",
    "print(\"출력2\", my_list) #전역변수 my_list 출력\n",
    "#함수 내부에서 변경시킨 값이 외부에도 반영\n",
    "# (주소로 변경해서 값 자체가 변경)\n",
    "print(\"전역변수 my_list의 id : \", id(my_list))"
   ]
  }
 ],
 "metadata": {
  "kernelspec": {
   "display_name": "Python 3 (ipykernel)",
   "language": "python",
   "name": "python3"
  },
  "language_info": {
   "codemirror_mode": {
    "name": "ipython",
    "version": 3
   },
   "file_extension": ".py",
   "mimetype": "text/x-python",
   "name": "python",
   "nbconvert_exporter": "python",
   "pygments_lexer": "ipython3",
   "version": "3.9.12"
  }
 },
 "nbformat": 4,
 "nbformat_minor": 5
}
