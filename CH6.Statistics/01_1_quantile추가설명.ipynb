{
 "cells": [
  {
   "cell_type": "code",
   "execution_count": 1,
   "id": "caee842e",
   "metadata": {},
   "outputs": [
    {
     "data": {
      "text/plain": [
       "'%.3f'"
      ]
     },
     "execution_count": 1,
     "metadata": {},
     "output_type": "execute_result"
    }
   ],
   "source": [
    "import numpy as np\n",
    "from scipy.stats import *\n",
    "import pandas as pd\n",
    "import math\n",
    "\n",
    "# Jupyter Notebook의 출력을 소수점 이하 3자리로 제한\n",
    "%precision 3\n"
   ]
  },
  {
   "cell_type": "code",
   "execution_count": 8,
   "id": "9fe5ce15",
   "metadata": {},
   "outputs": [],
   "source": [
    "from IPython.core.interactiveshell import InteractiveShell\n",
    "InteractiveShell.ast_node_interactivity=\"all\"\n"
   ]
  },
  {
   "cell_type": "code",
   "execution_count": 4,
   "id": "6ac4e390",
   "metadata": {},
   "outputs": [],
   "source": [
    "scores = [41, 42, 48, 49, 56, 57, 58, 65, 65, 69]\n"
   ]
  },
  {
   "cell_type": "markdown",
   "id": "7e90bfff",
   "metadata": {},
   "source": [
    "### np.quantile()의 i,j 위치 \n",
    "- 위치계산 공식\n",
    "- N은 자료의 수, k는 사분위 중 특정 분위\n",
    "- (N-1) * k/4+1 -> R. R은 위치(i)\n"
   ]
  },
  {
   "cell_type": "code",
   "execution_count": 10,
   "id": "85956608",
   "metadata": {},
   "outputs": [
    {
     "data": {
      "text/plain": [
       "1.000"
      ]
     },
     "execution_count": 10,
     "metadata": {},
     "output_type": "execute_result"
    },
    {
     "data": {
      "text/plain": [
       "41.000"
      ]
     },
     "execution_count": 10,
     "metadata": {},
     "output_type": "execute_result"
    }
   ],
   "source": [
    "q=0.0\n",
    "i=(len(scores)-1)*q+1\n",
    "i \n",
    "np.quantile(scores,q=q,interpolation='linear')"
   ]
  },
  {
   "cell_type": "code",
   "execution_count": 14,
   "id": "6be87aca",
   "metadata": {
    "scrolled": true
   },
   "outputs": [
    {
     "data": {
      "text/plain": [
       "3.250"
      ]
     },
     "execution_count": 14,
     "metadata": {},
     "output_type": "execute_result"
    },
    {
     "data": {
      "text/plain": [
       "48.250"
      ]
     },
     "execution_count": 14,
     "metadata": {},
     "output_type": "execute_result"
    },
    {
     "data": {
      "text/plain": [
       "48.250"
      ]
     },
     "execution_count": 14,
     "metadata": {},
     "output_type": "execute_result"
    }
   ],
   "source": [
    "q=0.25\n",
    "i=(len(scores)-1)*q+1\n",
    "i # 3.25 3번째 위치 , j=i+1이므로 4번째 위치\n",
    "np.quantile(scores,q=q,interpolation='linear')\n",
    "# i+(j-i)*소수\n",
    "48+(49-48)*0.25 # 0.25를 곱하는건 3.25에서 3번째 위치를 선택했고 나머지 0.25를 가중"
   ]
  },
  {
   "cell_type": "code",
   "execution_count": 18,
   "id": "58fb9f6d",
   "metadata": {},
   "outputs": [
    {
     "data": {
      "text/plain": [
       "7.750"
      ]
     },
     "execution_count": 18,
     "metadata": {},
     "output_type": "execute_result"
    },
    {
     "data": {
      "text/plain": [
       "63.250"
      ]
     },
     "execution_count": 18,
     "metadata": {},
     "output_type": "execute_result"
    },
    {
     "data": {
      "text/plain": [
       "63.250"
      ]
     },
     "execution_count": 18,
     "metadata": {},
     "output_type": "execute_result"
    }
   ],
   "source": [
    "q=0.75\n",
    "i=(len(scores)-1)*q+1\n",
    "i # 3.25 3번째 위치 , j=i+1이므로 4번째 위치\n",
    "np.quantile(scores,q=q,interpolation='linear')\n",
    "# i+(j-i)*소수\n",
    "58+(65-58)*0.75 # 0.75를 곱하는건 7.75에서 7번째 위치를 선택했고 나머지 0.75를 가중"
   ]
  },
  {
   "cell_type": "code",
   "execution_count": 20,
   "id": "0015d3ac",
   "metadata": {},
   "outputs": [],
   "source": [
    "test = [24, 25, 26, 28, 37, 43, 45, 46, 47, 48, 49, 50, 51,56,67]\n"
   ]
  },
  {
   "cell_type": "code",
   "execution_count": 23,
   "id": "fd06efd3",
   "metadata": {},
   "outputs": [
    {
     "data": {
      "text/plain": [
       "4.500"
      ]
     },
     "execution_count": 23,
     "metadata": {},
     "output_type": "execute_result"
    },
    {
     "data": {
      "text/plain": [
       "32.500"
      ]
     },
     "execution_count": 23,
     "metadata": {},
     "output_type": "execute_result"
    },
    {
     "data": {
      "text/plain": [
       "32.500"
      ]
     },
     "execution_count": 23,
     "metadata": {},
     "output_type": "execute_result"
    }
   ],
   "source": [
    "q=0.25\n",
    "i=(len(test)-1)*q+1\n",
    "i # 4.5 4번째 위치 , j=i+1이므로 5번째 위치\n",
    "np.quantile(test,q=q,interpolation='linear')\n",
    "# i+(j-i)*소수\n",
    "28+(37-28)*0.5 # 0.5를 곱하는건 4.5에서 4번째 위치를 선택했고 나머지 0.5를 가중"
   ]
  },
  {
   "cell_type": "code",
   "execution_count": 24,
   "id": "60c6d5cd",
   "metadata": {},
   "outputs": [
    {
     "data": {
      "text/plain": [
       "11.500"
      ]
     },
     "execution_count": 24,
     "metadata": {},
     "output_type": "execute_result"
    },
    {
     "data": {
      "text/plain": [
       "49.500"
      ]
     },
     "execution_count": 24,
     "metadata": {},
     "output_type": "execute_result"
    },
    {
     "data": {
      "text/plain": [
       "49.500"
      ]
     },
     "execution_count": 24,
     "metadata": {},
     "output_type": "execute_result"
    }
   ],
   "source": [
    "q=0.75\n",
    "i=(len(test)-1)*q+1\n",
    "i # 11.5 11번째 위치 , j=i+1이므로 12번째 위치\n",
    "np.quantile(test,q=q,interpolation='linear')\n",
    "# i+(j-i)*소수\n",
    "49+(50-49)*0.5 # 0.5를 곱하는건 11.5에서 11번째 위치를 선택했고 나머지 0.5를 가중"
   ]
  }
 ],
 "metadata": {
  "kernelspec": {
   "display_name": "Python 3 (ipykernel)",
   "language": "python",
   "name": "python3"
  },
  "language_info": {
   "codemirror_mode": {
    "name": "ipython",
    "version": 3
   },
   "file_extension": ".py",
   "mimetype": "text/x-python",
   "name": "python",
   "nbconvert_exporter": "python",
   "pygments_lexer": "ipython3",
   "version": "3.9.12"
  }
 },
 "nbformat": 4,
 "nbformat_minor": 5
}
