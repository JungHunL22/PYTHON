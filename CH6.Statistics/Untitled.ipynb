{
 "cells": [
  {
   "cell_type": "code",
   "execution_count": 4,
   "id": "761ed115",
   "metadata": {},
   "outputs": [],
   "source": [
    "import pandas as pd\n",
    "import numpy as np\n",
    "from scipy.stats import *"
   ]
  },
  {
   "cell_type": "markdown",
   "id": "3b95f9e4",
   "metadata": {},
   "source": [
    "1. 그래프 그릴때 일부 날짜만 표시하기"
   ]
  },
  {
   "cell_type": "code",
   "execution_count": 5,
   "id": "e12e2990",
   "metadata": {},
   "outputs": [],
   "source": [
    "df=pd.read_csv('./data/AB테스트/일별현황데이터.csv',encoding='cp949')"
   ]
  },
  {
   "cell_type": "code",
   "execution_count": 11,
   "id": "2665bd1a",
   "metadata": {
    "scrolled": true
   },
   "outputs": [
    {
     "data": {
      "text/html": [
       "<div>\n",
       "<style scoped>\n",
       "    .dataframe tbody tr th:only-of-type {\n",
       "        vertical-align: middle;\n",
       "    }\n",
       "\n",
       "    .dataframe tbody tr th {\n",
       "        vertical-align: top;\n",
       "    }\n",
       "\n",
       "    .dataframe thead th {\n",
       "        text-align: right;\n",
       "    }\n",
       "</style>\n",
       "<table border=\"1\" class=\"dataframe\">\n",
       "  <thead>\n",
       "    <tr style=\"text-align: right;\">\n",
       "      <th></th>\n",
       "      <th>구매자수</th>\n",
       "      <th>방문자수</th>\n",
       "      <th>일자</th>\n",
       "      <th>총 판매 금액</th>\n",
       "    </tr>\n",
       "  </thead>\n",
       "  <tbody>\n",
       "    <tr>\n",
       "      <th>0</th>\n",
       "      <td>328</td>\n",
       "      <td>1498</td>\n",
       "      <td>2019-01-01</td>\n",
       "      <td>6454056</td>\n",
       "    </tr>\n",
       "    <tr>\n",
       "      <th>1</th>\n",
       "      <td>301</td>\n",
       "      <td>1514</td>\n",
       "      <td>2019-01-02</td>\n",
       "      <td>5941439</td>\n",
       "    </tr>\n",
       "    <tr>\n",
       "      <th>2</th>\n",
       "      <td>219</td>\n",
       "      <td>1409</td>\n",
       "      <td>2019-01-03</td>\n",
       "      <td>3967404</td>\n",
       "    </tr>\n",
       "    <tr>\n",
       "      <th>3</th>\n",
       "      <td>276</td>\n",
       "      <td>1617</td>\n",
       "      <td>2019-01-04</td>\n",
       "      <td>5073708</td>\n",
       "    </tr>\n",
       "    <tr>\n",
       "      <th>4</th>\n",
       "      <td>311</td>\n",
       "      <td>1482</td>\n",
       "      <td>2019-01-05</td>\n",
       "      <td>6482795</td>\n",
       "    </tr>\n",
       "  </tbody>\n",
       "</table>\n",
       "</div>"
      ],
      "text/plain": [
       "   구매자수  방문자수          일자  총 판매 금액\n",
       "0   328  1498  2019-01-01  6454056\n",
       "1   301  1514  2019-01-02  5941439\n",
       "2   219  1409  2019-01-03  3967404\n",
       "3   276  1617  2019-01-04  5073708\n",
       "4   311  1482  2019-01-05  6482795"
      ]
     },
     "execution_count": 11,
     "metadata": {},
     "output_type": "execute_result"
    }
   ],
   "source": [
    "df.head()"
   ]
  },
  {
   "cell_type": "code",
   "execution_count": 7,
   "id": "c4999d2b",
   "metadata": {},
   "outputs": [
    {
     "data": {
      "text/plain": [
       "365"
      ]
     },
     "execution_count": 7,
     "metadata": {},
     "output_type": "execute_result"
    }
   ],
   "source": [
    "len(set(df.일자))"
   ]
  },
  {
   "cell_type": "code",
   "execution_count": 13,
   "id": "2fc375ea",
   "metadata": {},
   "outputs": [],
   "source": [
    "%matplotlib inline\n",
    "import matplotlib.pyplot as plt\n",
    "plt.rcParams[\"font.family\"] = 'Malgun Gothic'\n",
    "plt.rcParams[\"font.size\"] = 15\n",
    "plt.rcParams[\"figure.figsize\"] = (20, 5)\n"
   ]
  },
  {
   "cell_type": "code",
   "execution_count": 17,
   "id": "51e4ff28",
   "metadata": {},
   "outputs": [
    {
     "ename": "KeyError",
     "evalue": "'[365] not in index'",
     "output_type": "error",
     "traceback": [
      "\u001b[1;31m---------------------------------------------------------------------------\u001b[0m",
      "\u001b[1;31mKeyError\u001b[0m                                  Traceback (most recent call last)",
      "Input \u001b[1;32mIn [17]\u001b[0m, in \u001b[0;36m<cell line: 3>\u001b[1;34m()\u001b[0m\n\u001b[0;32m      1\u001b[0m \u001b[38;5;66;03m# x축에 모든날짜가 ticks로 표식 - 구분이 어려움\u001b[39;00m\n\u001b[0;32m      2\u001b[0m xtick_range\u001b[38;5;241m=\u001b[39mnp\u001b[38;5;241m.\u001b[39mcumsum([\u001b[38;5;241m0\u001b[39m,\u001b[38;5;241m31\u001b[39m,\u001b[38;5;241m28\u001b[39m,\u001b[38;5;241m31\u001b[39m,\u001b[38;5;241m30\u001b[39m,\u001b[38;5;241m31\u001b[39m,\u001b[38;5;241m30\u001b[39m,\u001b[38;5;241m31\u001b[39m,\u001b[38;5;241m31\u001b[39m,\u001b[38;5;241m31\u001b[39m,\u001b[38;5;241m30\u001b[39m,\u001b[38;5;241m31\u001b[39m,\u001b[38;5;241m30\u001b[39m])\n\u001b[1;32m----> 3\u001b[0m xtick_label\u001b[38;5;241m=\u001b[39m\u001b[43mdf\u001b[49m\u001b[43m[\u001b[49m\u001b[38;5;124;43m'\u001b[39;49m\u001b[38;5;124;43m일자\u001b[39;49m\u001b[38;5;124;43m'\u001b[39;49m\u001b[43m]\u001b[49m\u001b[38;5;241;43m.\u001b[39;49m\u001b[43mloc\u001b[49m\u001b[43m[\u001b[49m\u001b[43mxtick_range\u001b[49m\u001b[43m]\u001b[49m\n",
      "File \u001b[1;32m~\\AppData\\Roaming\\Python\\Python39\\site-packages\\pandas\\core\\indexing.py:967\u001b[0m, in \u001b[0;36m_LocationIndexer.__getitem__\u001b[1;34m(self, key)\u001b[0m\n\u001b[0;32m    964\u001b[0m axis \u001b[38;5;241m=\u001b[39m \u001b[38;5;28mself\u001b[39m\u001b[38;5;241m.\u001b[39maxis \u001b[38;5;129;01mor\u001b[39;00m \u001b[38;5;241m0\u001b[39m\n\u001b[0;32m    966\u001b[0m maybe_callable \u001b[38;5;241m=\u001b[39m com\u001b[38;5;241m.\u001b[39mapply_if_callable(key, \u001b[38;5;28mself\u001b[39m\u001b[38;5;241m.\u001b[39mobj)\n\u001b[1;32m--> 967\u001b[0m \u001b[38;5;28;01mreturn\u001b[39;00m \u001b[38;5;28;43mself\u001b[39;49m\u001b[38;5;241;43m.\u001b[39;49m\u001b[43m_getitem_axis\u001b[49m\u001b[43m(\u001b[49m\u001b[43mmaybe_callable\u001b[49m\u001b[43m,\u001b[49m\u001b[43m \u001b[49m\u001b[43maxis\u001b[49m\u001b[38;5;241;43m=\u001b[39;49m\u001b[43maxis\u001b[49m\u001b[43m)\u001b[49m\n",
      "File \u001b[1;32m~\\AppData\\Roaming\\Python\\Python39\\site-packages\\pandas\\core\\indexing.py:1191\u001b[0m, in \u001b[0;36m_LocIndexer._getitem_axis\u001b[1;34m(self, key, axis)\u001b[0m\n\u001b[0;32m   1188\u001b[0m     \u001b[38;5;28;01mif\u001b[39;00m \u001b[38;5;28mhasattr\u001b[39m(key, \u001b[38;5;124m\"\u001b[39m\u001b[38;5;124mndim\u001b[39m\u001b[38;5;124m\"\u001b[39m) \u001b[38;5;129;01mand\u001b[39;00m key\u001b[38;5;241m.\u001b[39mndim \u001b[38;5;241m>\u001b[39m \u001b[38;5;241m1\u001b[39m:\n\u001b[0;32m   1189\u001b[0m         \u001b[38;5;28;01mraise\u001b[39;00m \u001b[38;5;167;01mValueError\u001b[39;00m(\u001b[38;5;124m\"\u001b[39m\u001b[38;5;124mCannot index with multidimensional key\u001b[39m\u001b[38;5;124m\"\u001b[39m)\n\u001b[1;32m-> 1191\u001b[0m     \u001b[38;5;28;01mreturn\u001b[39;00m \u001b[38;5;28;43mself\u001b[39;49m\u001b[38;5;241;43m.\u001b[39;49m\u001b[43m_getitem_iterable\u001b[49m\u001b[43m(\u001b[49m\u001b[43mkey\u001b[49m\u001b[43m,\u001b[49m\u001b[43m \u001b[49m\u001b[43maxis\u001b[49m\u001b[38;5;241;43m=\u001b[39;49m\u001b[43maxis\u001b[49m\u001b[43m)\u001b[49m\n\u001b[0;32m   1193\u001b[0m \u001b[38;5;66;03m# nested tuple slicing\u001b[39;00m\n\u001b[0;32m   1194\u001b[0m \u001b[38;5;28;01mif\u001b[39;00m is_nested_tuple(key, labels):\n",
      "File \u001b[1;32m~\\AppData\\Roaming\\Python\\Python39\\site-packages\\pandas\\core\\indexing.py:1132\u001b[0m, in \u001b[0;36m_LocIndexer._getitem_iterable\u001b[1;34m(self, key, axis)\u001b[0m\n\u001b[0;32m   1129\u001b[0m \u001b[38;5;28mself\u001b[39m\u001b[38;5;241m.\u001b[39m_validate_key(key, axis)\n\u001b[0;32m   1131\u001b[0m \u001b[38;5;66;03m# A collection of keys\u001b[39;00m\n\u001b[1;32m-> 1132\u001b[0m keyarr, indexer \u001b[38;5;241m=\u001b[39m \u001b[38;5;28;43mself\u001b[39;49m\u001b[38;5;241;43m.\u001b[39;49m\u001b[43m_get_listlike_indexer\u001b[49m\u001b[43m(\u001b[49m\u001b[43mkey\u001b[49m\u001b[43m,\u001b[49m\u001b[43m \u001b[49m\u001b[43maxis\u001b[49m\u001b[43m)\u001b[49m\n\u001b[0;32m   1133\u001b[0m \u001b[38;5;28;01mreturn\u001b[39;00m \u001b[38;5;28mself\u001b[39m\u001b[38;5;241m.\u001b[39mobj\u001b[38;5;241m.\u001b[39m_reindex_with_indexers(\n\u001b[0;32m   1134\u001b[0m     {axis: [keyarr, indexer]}, copy\u001b[38;5;241m=\u001b[39m\u001b[38;5;28;01mTrue\u001b[39;00m, allow_dups\u001b[38;5;241m=\u001b[39m\u001b[38;5;28;01mTrue\u001b[39;00m\n\u001b[0;32m   1135\u001b[0m )\n",
      "File \u001b[1;32m~\\AppData\\Roaming\\Python\\Python39\\site-packages\\pandas\\core\\indexing.py:1327\u001b[0m, in \u001b[0;36m_LocIndexer._get_listlike_indexer\u001b[1;34m(self, key, axis)\u001b[0m\n\u001b[0;32m   1324\u001b[0m ax \u001b[38;5;241m=\u001b[39m \u001b[38;5;28mself\u001b[39m\u001b[38;5;241m.\u001b[39mobj\u001b[38;5;241m.\u001b[39m_get_axis(axis)\n\u001b[0;32m   1325\u001b[0m axis_name \u001b[38;5;241m=\u001b[39m \u001b[38;5;28mself\u001b[39m\u001b[38;5;241m.\u001b[39mobj\u001b[38;5;241m.\u001b[39m_get_axis_name(axis)\n\u001b[1;32m-> 1327\u001b[0m keyarr, indexer \u001b[38;5;241m=\u001b[39m \u001b[43max\u001b[49m\u001b[38;5;241;43m.\u001b[39;49m\u001b[43m_get_indexer_strict\u001b[49m\u001b[43m(\u001b[49m\u001b[43mkey\u001b[49m\u001b[43m,\u001b[49m\u001b[43m \u001b[49m\u001b[43maxis_name\u001b[49m\u001b[43m)\u001b[49m\n\u001b[0;32m   1329\u001b[0m \u001b[38;5;28;01mreturn\u001b[39;00m keyarr, indexer\n",
      "File \u001b[1;32m~\\AppData\\Roaming\\Python\\Python39\\site-packages\\pandas\\core\\indexes\\base.py:5782\u001b[0m, in \u001b[0;36mIndex._get_indexer_strict\u001b[1;34m(self, key, axis_name)\u001b[0m\n\u001b[0;32m   5779\u001b[0m \u001b[38;5;28;01melse\u001b[39;00m:\n\u001b[0;32m   5780\u001b[0m     keyarr, indexer, new_indexer \u001b[38;5;241m=\u001b[39m \u001b[38;5;28mself\u001b[39m\u001b[38;5;241m.\u001b[39m_reindex_non_unique(keyarr)\n\u001b[1;32m-> 5782\u001b[0m \u001b[38;5;28;43mself\u001b[39;49m\u001b[38;5;241;43m.\u001b[39;49m\u001b[43m_raise_if_missing\u001b[49m\u001b[43m(\u001b[49m\u001b[43mkeyarr\u001b[49m\u001b[43m,\u001b[49m\u001b[43m \u001b[49m\u001b[43mindexer\u001b[49m\u001b[43m,\u001b[49m\u001b[43m \u001b[49m\u001b[43maxis_name\u001b[49m\u001b[43m)\u001b[49m\n\u001b[0;32m   5784\u001b[0m keyarr \u001b[38;5;241m=\u001b[39m \u001b[38;5;28mself\u001b[39m\u001b[38;5;241m.\u001b[39mtake(indexer)\n\u001b[0;32m   5785\u001b[0m \u001b[38;5;28;01mif\u001b[39;00m \u001b[38;5;28misinstance\u001b[39m(key, Index):\n\u001b[0;32m   5786\u001b[0m     \u001b[38;5;66;03m# GH 42790 - Preserve name from an Index\u001b[39;00m\n",
      "File \u001b[1;32m~\\AppData\\Roaming\\Python\\Python39\\site-packages\\pandas\\core\\indexes\\base.py:5845\u001b[0m, in \u001b[0;36mIndex._raise_if_missing\u001b[1;34m(self, key, indexer, axis_name)\u001b[0m\n\u001b[0;32m   5842\u001b[0m     \u001b[38;5;28;01mraise\u001b[39;00m \u001b[38;5;167;01mKeyError\u001b[39;00m(\u001b[38;5;124mf\u001b[39m\u001b[38;5;124m\"\u001b[39m\u001b[38;5;124mNone of [\u001b[39m\u001b[38;5;132;01m{\u001b[39;00mkey\u001b[38;5;132;01m}\u001b[39;00m\u001b[38;5;124m] are in the [\u001b[39m\u001b[38;5;132;01m{\u001b[39;00maxis_name\u001b[38;5;132;01m}\u001b[39;00m\u001b[38;5;124m]\u001b[39m\u001b[38;5;124m\"\u001b[39m)\n\u001b[0;32m   5844\u001b[0m not_found \u001b[38;5;241m=\u001b[39m \u001b[38;5;28mlist\u001b[39m(ensure_index(key)[missing_mask\u001b[38;5;241m.\u001b[39mnonzero()[\u001b[38;5;241m0\u001b[39m]]\u001b[38;5;241m.\u001b[39munique())\n\u001b[1;32m-> 5845\u001b[0m \u001b[38;5;28;01mraise\u001b[39;00m \u001b[38;5;167;01mKeyError\u001b[39;00m(\u001b[38;5;124mf\u001b[39m\u001b[38;5;124m\"\u001b[39m\u001b[38;5;132;01m{\u001b[39;00mnot_found\u001b[38;5;132;01m}\u001b[39;00m\u001b[38;5;124m not in index\u001b[39m\u001b[38;5;124m\"\u001b[39m)\n",
      "\u001b[1;31mKeyError\u001b[0m: '[365] not in index'"
     ]
    }
   ],
   "source": [
    "# x축에 모든날짜가 ticks로 표식 - 구분이 어려움\n",
    "xtick_range=np.cumsum([0,31,28,31,30,31,30,31,31,31,30,31,30])\n",
    "xtick_label=df['일자'].loc[xtick_range]"
   ]
  },
  {
   "cell_type": "code",
   "execution_count": 12,
   "id": "b3f39006",
   "metadata": {
    "scrolled": false
   },
   "outputs": [
    {
     "data": {
      "text/plain": [
       "[<matplotlib.lines.Line2D at 0x20d77b791c0>]"
      ]
     },
     "execution_count": 12,
     "metadata": {},
     "output_type": "execute_result"
    },
    {
     "data": {
      "image/png": "[encoded data removed]",
      "text/plain": [
       "<Figure size 1440x360 with 1 Axes>"
      ]
     },
     "metadata": {
      "needs_background": "light"
     },
     "output_type": "display_data"
    }
   ],
   "source": [
    "# 2019년 일별 구매자수 현황\n",
    "plt.plot(df['일자'],df['구매자수'])"
   ]
  },
  {
   "cell_type": "code",
   "execution_count": null,
   "id": "4a510e53",
   "metadata": {},
   "outputs": [],
   "source": []
  },
  {
   "cell_type": "code",
   "execution_count": 24,
   "id": "a3b79025",
   "metadata": {},
   "outputs": [
    {
     "data": {
      "text/html": [
       "<div>\n",
       "<style scoped>\n",
       "    .dataframe tbody tr th:only-of-type {\n",
       "        vertical-align: middle;\n",
       "    }\n",
       "\n",
       "    .dataframe tbody tr th {\n",
       "        vertical-align: top;\n",
       "    }\n",
       "\n",
       "    .dataframe thead th {\n",
       "        text-align: right;\n",
       "    }\n",
       "</style>\n",
       "<table border=\"1\" class=\"dataframe\">\n",
       "  <thead>\n",
       "    <tr style=\"text-align: right;\">\n",
       "      <th></th>\n",
       "      <th>구매금액</th>\n",
       "    </tr>\n",
       "    <tr>\n",
       "      <th>고객ID</th>\n",
       "      <th></th>\n",
       "    </tr>\n",
       "  </thead>\n",
       "  <tbody>\n",
       "    <tr>\n",
       "      <th>C-1</th>\n",
       "      <td>20459</td>\n",
       "    </tr>\n",
       "    <tr>\n",
       "      <th>C-2</th>\n",
       "      <td>0</td>\n",
       "    </tr>\n",
       "    <tr>\n",
       "      <th>C-3</th>\n",
       "      <td>19726</td>\n",
       "    </tr>\n",
       "    <tr>\n",
       "      <th>C-4</th>\n",
       "      <td>0</td>\n",
       "    </tr>\n",
       "    <tr>\n",
       "      <th>C-5</th>\n",
       "      <td>19049</td>\n",
       "    </tr>\n",
       "  </tbody>\n",
       "</table>\n",
       "</div>"
      ],
      "text/plain": [
       "       구매금액\n",
       "고객ID       \n",
       "C-1   20459\n",
       "C-2       0\n",
       "C-3   19726\n",
       "C-4       0\n",
       "C-5   19049"
      ]
     },
     "execution_count": 24,
     "metadata": {},
     "output_type": "execute_result"
    }
   ],
   "source": [
    "placement_A=pd.read_csv('./data/AB테스트/상품배치_A.csv',encoding='cp949'\n",
    "                        ,index_col='고객ID')\n",
    "placement_A.head()"
   ]
  },
  {
   "cell_type": "code",
   "execution_count": 29,
   "id": "343392e9",
   "metadata": {},
   "outputs": [
    {
     "data": {
      "text/html": [
       "<div>\n",
       "<style scoped>\n",
       "    .dataframe tbody tr th:only-of-type {\n",
       "        vertical-align: middle;\n",
       "    }\n",
       "\n",
       "    .dataframe tbody tr th {\n",
       "        vertical-align: top;\n",
       "    }\n",
       "\n",
       "    .dataframe thead th {\n",
       "        text-align: right;\n",
       "    }\n",
       "</style>\n",
       "<table border=\"1\" class=\"dataframe\">\n",
       "  <thead>\n",
       "    <tr style=\"text-align: right;\">\n",
       "      <th></th>\n",
       "      <th>구매금액</th>\n",
       "    </tr>\n",
       "    <tr>\n",
       "      <th>고객ID</th>\n",
       "      <th></th>\n",
       "    </tr>\n",
       "  </thead>\n",
       "  <tbody>\n",
       "    <tr>\n",
       "      <th>C-200</th>\n",
       "      <td>0</td>\n",
       "    </tr>\n",
       "    <tr>\n",
       "      <th>C-201</th>\n",
       "      <td>0</td>\n",
       "    </tr>\n",
       "    <tr>\n",
       "      <th>C-202</th>\n",
       "      <td>0</td>\n",
       "    </tr>\n",
       "    <tr>\n",
       "      <th>C-203</th>\n",
       "      <td>19055</td>\n",
       "    </tr>\n",
       "    <tr>\n",
       "      <th>C-204</th>\n",
       "      <td>0</td>\n",
       "    </tr>\n",
       "  </tbody>\n",
       "</table>\n",
       "</div>"
      ],
      "text/plain": [
       "        구매금액\n",
       "고객ID        \n",
       "C-200      0\n",
       "C-201      0\n",
       "C-202      0\n",
       "C-203  19055\n",
       "C-204      0"
      ]
     },
     "execution_count": 29,
     "metadata": {},
     "output_type": "execute_result"
    }
   ],
   "source": [
    "placement_B=pd.read_csv('./data/AB테스트/상품배치_B.csv',encoding='cp949'\n",
    "                        ,index_col='고객ID')\n",
    "placement_B.head()"
   ]
  },
  {
   "cell_type": "code",
   "execution_count": 28,
   "id": "66578ac5",
   "metadata": {
    "scrolled": true
   },
   "outputs": [
    {
     "data": {
      "text/html": [
       "<div>\n",
       "<style scoped>\n",
       "    .dataframe tbody tr th:only-of-type {\n",
       "        vertical-align: middle;\n",
       "    }\n",
       "\n",
       "    .dataframe tbody tr th {\n",
       "        vertical-align: top;\n",
       "    }\n",
       "\n",
       "    .dataframe thead th {\n",
       "        text-align: right;\n",
       "    }\n",
       "</style>\n",
       "<table border=\"1\" class=\"dataframe\">\n",
       "  <thead>\n",
       "    <tr style=\"text-align: right;\">\n",
       "      <th></th>\n",
       "      <th>구매금액</th>\n",
       "    </tr>\n",
       "    <tr>\n",
       "      <th>고객ID</th>\n",
       "      <th></th>\n",
       "    </tr>\n",
       "  </thead>\n",
       "  <tbody>\n",
       "    <tr>\n",
       "      <th>C-360</th>\n",
       "      <td>0</td>\n",
       "    </tr>\n",
       "    <tr>\n",
       "      <th>C-361</th>\n",
       "      <td>19844</td>\n",
       "    </tr>\n",
       "    <tr>\n",
       "      <th>C-362</th>\n",
       "      <td>19085</td>\n",
       "    </tr>\n",
       "    <tr>\n",
       "      <th>C-363</th>\n",
       "      <td>0</td>\n",
       "    </tr>\n",
       "    <tr>\n",
       "      <th>C-364</th>\n",
       "      <td>19671</td>\n",
       "    </tr>\n",
       "  </tbody>\n",
       "</table>\n",
       "</div>"
      ],
      "text/plain": [
       "        구매금액\n",
       "고객ID        \n",
       "C-360      0\n",
       "C-361  19844\n",
       "C-362  19085\n",
       "C-363      0\n",
       "C-364  19671"
      ]
     },
     "execution_count": 28,
     "metadata": {},
     "output_type": "execute_result"
    }
   ],
   "source": [
    "placement_C=pd.read_csv('./data/AB테스트/상품배치_C.csv',encoding='cp949'\n",
    "                        ,index_col='고객ID')\n",
    "placement_C.head()"
   ]
  },
  {
   "cell_type": "code",
   "execution_count": 30,
   "id": "c1d66cfc",
   "metadata": {},
   "outputs": [
    {
     "name": "stdout",
     "output_type": "stream",
     "text": [
      "<class 'pandas.core.frame.DataFrame'>\n",
      "Index: 198 entries, C-1 to C-198\n",
      "Data columns (total 1 columns):\n",
      " #   Column  Non-Null Count  Dtype\n",
      "---  ------  --------------  -----\n",
      " 0   구매금액    198 non-null    int64\n",
      "dtypes: int64(1)\n",
      "memory usage: 3.1+ KB\n"
     ]
    }
   ],
   "source": [
    "placement_A.info()"
   ]
  },
  {
   "cell_type": "code",
   "execution_count": 31,
   "id": "1b290c2a",
   "metadata": {},
   "outputs": [
    {
     "name": "stdout",
     "output_type": "stream",
     "text": [
      "<class 'pandas.core.frame.DataFrame'>\n",
      "Index: 160 entries, C-200 to C-359\n",
      "Data columns (total 1 columns):\n",
      " #   Column  Non-Null Count  Dtype\n",
      "---  ------  --------------  -----\n",
      " 0   구매금액    160 non-null    int64\n",
      "dtypes: int64(1)\n",
      "memory usage: 2.5+ KB\n"
     ]
    }
   ],
   "source": [
    "placement_B.info()"
   ]
  },
  {
   "cell_type": "code",
   "execution_count": 32,
   "id": "599f5b90",
   "metadata": {},
   "outputs": [
    {
     "name": "stdout",
     "output_type": "stream",
     "text": [
      "<class 'pandas.core.frame.DataFrame'>\n",
      "Index: 148 entries, C-360 to C-507\n",
      "Data columns (total 1 columns):\n",
      " #   Column  Non-Null Count  Dtype\n",
      "---  ------  --------------  -----\n",
      " 0   구매금액    148 non-null    int64\n",
      "dtypes: int64(1)\n",
      "memory usage: 2.3+ KB\n"
     ]
    }
   ],
   "source": [
    "placement_C.info()"
   ]
  },
  {
   "cell_type": "code",
   "execution_count": 49,
   "id": "6abf0196",
   "metadata": {},
   "outputs": [],
   "source": [
    "zero_A=placement_A.loc[placement_A['구매금액']!=0]['구매금액'].values\n",
    "zero_B=placement_B.loc[placement_B['구매금액']!=0]['구매금액'].values\n",
    "zero_C=placement_C.loc[placement_C['구매금액']!=0]['구매금액'].values"
   ]
  },
  {
   "cell_type": "markdown",
   "id": "2b0d40ca",
   "metadata": {},
   "source": [
    "세개의 그룹이므로 그룹간 차이 확인은 ANOVA 검정 일원분산분석으로 진행"
   ]
  },
  {
   "cell_type": "code",
   "execution_count": 50,
   "id": "46107497",
   "metadata": {},
   "outputs": [
    {
     "name": "stdout",
     "output_type": "stream",
     "text": [
      "ShapiroResult(statistic=0.9873660802841187, pvalue=0.4481019377708435)\n",
      "ShapiroResult(statistic=0.988836944103241, pvalue=0.8066813945770264)\n",
      "ShapiroResult(statistic=0.9611336588859558, pvalue=0.05686437711119652)\n"
     ]
    }
   ],
   "source": [
    "# 정규성 검정\n",
    "print(shapiro(zero_A))\n",
    "print(shapiro(zero_B))\n",
    "print(shapiro(zero_C))"
   ]
  },
  {
   "cell_type": "code",
   "execution_count": 51,
   "id": "922e18bf",
   "metadata": {
    "scrolled": true
   },
   "outputs": [
    {
     "data": {
      "text/plain": [
       "LeveneResult(statistic=0.012659999227426385, pvalue=0.9874205016592401)"
      ]
     },
     "execution_count": 51,
     "metadata": {},
     "output_type": "execute_result"
    }
   ],
   "source": [
    "# 등분산 검정 - 등분산성 만족\n",
    "levene(zero_A,zero_B,zero_C)"
   ]
  },
  {
   "cell_type": "code",
   "execution_count": 52,
   "id": "99e7746d",
   "metadata": {},
   "outputs": [
    {
     "data": {
      "text/plain": [
       "F_onewayResult(statistic=76.88192392994758, pvalue=3.382319770772329e-26)"
      ]
     },
     "execution_count": 52,
     "metadata": {},
     "output_type": "execute_result"
    }
   ],
   "source": [
    "# 일원분산분석 : p-value가 거의 0\n",
    "# -> 집단 A,B,C의 평균은 유의한 차이가 존재\n",
    "f_oneway(zero_A,zero_B,zero_C)"
   ]
  },
  {
   "cell_type": "code",
   "execution_count": 53,
   "id": "807baefb",
   "metadata": {},
   "outputs": [],
   "source": [
    "from statsmodels.stats.multicomp import pairwise_tukeyhsd"
   ]
  },
  {
   "cell_type": "code",
   "execution_count": null,
   "id": "8c569117",
   "metadata": {},
   "outputs": [],
   "source": [
    "## 일원 분산분석의 결과가 유의한 차이 - 사후분석 진행"
   ]
  },
  {
   "cell_type": "code",
   "execution_count": 55,
   "id": "d8e48156",
   "metadata": {},
   "outputs": [],
   "source": [
    "g_label=['A']*len(zero_A)+['B']*len(zero_B)+['C']*len(zero_C)"
   ]
  },
  {
   "cell_type": "code",
   "execution_count": 57,
   "id": "1eb885a1",
   "metadata": {},
   "outputs": [
    {
     "data": {
      "text/plain": [
       "(229, 229)"
      ]
     },
     "execution_count": 57,
     "metadata": {},
     "output_type": "execute_result"
    }
   ],
   "source": [
    "g_data=zero_A.tolist()+zero_B.tolist()+zero_C.tolist()\n",
    "len(g_label),len(g_data)"
   ]
  },
  {
   "cell_type": "code",
   "execution_count": 58,
   "id": "ff0d66d2",
   "metadata": {},
   "outputs": [
    {
     "name": "stdout",
     "output_type": "stream",
     "text": [
      "    Multiple Comparison of Means - Tukey HSD, FWER=0.05    \n",
      "===========================================================\n",
      "group1 group2  meandiff  p-adj    lower      upper   reject\n",
      "-----------------------------------------------------------\n",
      "     A      B -1883.1765   -0.0 -2276.2519 -1490.101   True\n",
      "     A      C    66.7946 0.9221  -343.8753  477.4645  False\n",
      "     B      C  1949.9711   -0.0  1503.2593 2396.6829   True\n",
      "-----------------------------------------------------------\n"
     ]
    }
   ],
   "source": [
    "print(pairwise_tukeyhsd(g_data,g_label))"
   ]
  },
  {
   "cell_type": "markdown",
   "id": "d7db03b1",
   "metadata": {},
   "source": [
    "구매금액을 0원 포함해서 분석"
   ]
  },
  {
   "cell_type": "code",
   "execution_count": 63,
   "id": "2c0b01de",
   "metadata": {},
   "outputs": [
    {
     "name": "stdout",
     "output_type": "stream",
     "text": [
      "ShapiroResult(statistic=0.682793378829956, pvalue=4.386357325621827e-19)\n",
      "ShapiroResult(statistic=0.6676486730575562, pvalue=1.5833057487432602e-17)\n",
      "ShapiroResult(statistic=0.6531034708023071, pvalue=3.3714733640971184e-17)\n"
     ]
    }
   ],
   "source": [
    "print(shapiro(placement_A['구매금액']))\n",
    "print(shapiro(placement_B['구매금액']))\n",
    "print(shapiro(placement_C['구매금액']))"
   ]
  },
  {
   "cell_type": "code",
   "execution_count": 65,
   "id": "1380caa3",
   "metadata": {
    "scrolled": true
   },
   "outputs": [
    {
     "data": {
      "text/plain": [
       "LeveneResult(statistic=2.8293955607060832, pvalue=0.05998873624115593)"
      ]
     },
     "execution_count": 65,
     "metadata": {},
     "output_type": "execute_result"
    }
   ],
   "source": [
    "# 등분산성 검정 -\n",
    "levene(placement_A['구매금액'],placement_B['구매금액'],placement_C['구매금액'])"
   ]
  },
  {
   "cell_type": "markdown",
   "id": "d0c79392",
   "metadata": {},
   "source": [
    "- 비모수적방법\n",
    "    - 관측 값이 어느 특정한 확률분포를 따른다고 전제할 수 없거나 또는 모집단에 대한 아무런 정보가 없는 경우에 실시하는 검정방법으로 모수에 대한 언급 이 없으며 분포무관 방법이라고도 한다.\n"
   ]
  },
  {
   "cell_type": "code",
   "execution_count": 68,
   "id": "7489862a",
   "metadata": {},
   "outputs": [
    {
     "data": {
      "text/plain": [
       "KruskalResult(statistic=19.713898300439208, pvalue=5.238191550170163e-05)"
      ]
     },
     "execution_count": 68,
     "metadata": {},
     "output_type": "execute_result"
    }
   ],
   "source": [
    "# 정규성을 만족하지 않으므로 비모수적방법인 Kruskal_wallis test진행\n",
    "# p-value가 0.05보다 낮으므로 세 집단간에는 유의한 차이가 존재\n",
    "kruskal(placement_A['구매금액'],placement_B['구매금액'],placement_C['구매금액'])"
   ]
  },
  {
   "cell_type": "code",
   "execution_count": 72,
   "id": "75e3426c",
   "metadata": {},
   "outputs": [
    {
     "name": "stdout",
     "output_type": "stream",
     "text": [
      "    Multiple Comparison of Means - Tukey HSD, FWER=0.05    \n",
      "===========================================================\n",
      "group1 group2  meandiff  p-adj    lower      upper   reject\n",
      "-----------------------------------------------------------\n",
      "     A      B -2602.2773 0.0314 -5020.3131 -184.2414   True\n",
      "     A      C -2302.0043  0.074 -4773.6625  169.6539  False\n",
      "     B      C    300.273   0.96 -2293.8963 2894.4423  False\n",
      "-----------------------------------------------------------\n"
     ]
    }
   ],
   "source": [
    "# 사후 분석\n",
    "from statsmodels.stats.multicomp import pairwise_tukeyhsd\n",
    "Group = ['A'] * len(placement_A) + ['B'] * len(placement_B) + ['C'] * len(placement_C)\n",
    "Data = placement_A['구매금액'].tolist() + placement_B['구매금액'].tolist() + placement_C['구매금액'].tolist()\n",
    "\n",
    "print(pairwise_tukeyhsd(Data, Group))\n",
    "\n",
    "# A ~ (B,C) 관계임을 어느정도 예샹 - 그룹을 묶기가 힘들다\n",
    "# A와 B는 차이가 있음\n",
    "# A와 B는 차이가 없음\n",
    "# A와 C는 차이가 없음\n"
   ]
  },
  {
   "cell_type": "markdown",
   "id": "a8d8c034",
   "metadata": {},
   "source": [
    "### 구매여부와 상품배치 간 관계 파악"
   ]
  },
  {
   "cell_type": "code",
   "execution_count": 75,
   "id": "92d16d37",
   "metadata": {},
   "outputs": [
    {
     "data": {
      "text/html": [
       "<div>\n",
       "<style scoped>\n",
       "    .dataframe tbody tr th:only-of-type {\n",
       "        vertical-align: middle;\n",
       "    }\n",
       "\n",
       "    .dataframe tbody tr th {\n",
       "        vertical-align: top;\n",
       "    }\n",
       "\n",
       "    .dataframe thead th {\n",
       "        text-align: right;\n",
       "    }\n",
       "</style>\n",
       "<table border=\"1\" class=\"dataframe\">\n",
       "  <thead>\n",
       "    <tr style=\"text-align: right;\">\n",
       "      <th></th>\n",
       "      <th>구매금액</th>\n",
       "      <th>상품배치</th>\n",
       "    </tr>\n",
       "    <tr>\n",
       "      <th>고객ID</th>\n",
       "      <th></th>\n",
       "      <th></th>\n",
       "    </tr>\n",
       "  </thead>\n",
       "  <tbody>\n",
       "    <tr>\n",
       "      <th>C-360</th>\n",
       "      <td>0</td>\n",
       "      <td>C</td>\n",
       "    </tr>\n",
       "    <tr>\n",
       "      <th>C-361</th>\n",
       "      <td>19844</td>\n",
       "      <td>C</td>\n",
       "    </tr>\n",
       "    <tr>\n",
       "      <th>C-362</th>\n",
       "      <td>19085</td>\n",
       "      <td>C</td>\n",
       "    </tr>\n",
       "    <tr>\n",
       "      <th>C-363</th>\n",
       "      <td>0</td>\n",
       "      <td>C</td>\n",
       "    </tr>\n",
       "    <tr>\n",
       "      <th>C-364</th>\n",
       "      <td>19671</td>\n",
       "      <td>C</td>\n",
       "    </tr>\n",
       "    <tr>\n",
       "      <th>...</th>\n",
       "      <td>...</td>\n",
       "      <td>...</td>\n",
       "    </tr>\n",
       "    <tr>\n",
       "      <th>C-503</th>\n",
       "      <td>0</td>\n",
       "      <td>C</td>\n",
       "    </tr>\n",
       "    <tr>\n",
       "      <th>C-504</th>\n",
       "      <td>0</td>\n",
       "      <td>C</td>\n",
       "    </tr>\n",
       "    <tr>\n",
       "      <th>C-505</th>\n",
       "      <td>0</td>\n",
       "      <td>C</td>\n",
       "    </tr>\n",
       "    <tr>\n",
       "      <th>C-506</th>\n",
       "      <td>21363</td>\n",
       "      <td>C</td>\n",
       "    </tr>\n",
       "    <tr>\n",
       "      <th>C-507</th>\n",
       "      <td>0</td>\n",
       "      <td>C</td>\n",
       "    </tr>\n",
       "  </tbody>\n",
       "</table>\n",
       "<p>148 rows × 2 columns</p>\n",
       "</div>"
      ],
      "text/plain": [
       "        구매금액 상품배치\n",
       "고객ID             \n",
       "C-360      0    C\n",
       "C-361  19844    C\n",
       "C-362  19085    C\n",
       "C-363      0    C\n",
       "C-364  19671    C\n",
       "...      ...  ...\n",
       "C-503      0    C\n",
       "C-504      0    C\n",
       "C-505      0    C\n",
       "C-506  21363    C\n",
       "C-507      0    C\n",
       "\n",
       "[148 rows x 2 columns]"
      ]
     },
     "execution_count": 75,
     "metadata": {},
     "output_type": "execute_result"
    }
   ],
   "source": [
    "placement_A['상품배치']='A'\n",
    "placement_A\n",
    "placement_B['상품배치']='B'\n",
    "placement_B\n",
    "placement_C['상품배치']='C'\n",
    "placement_C"
   ]
  },
  {
   "cell_type": "code",
   "execution_count": 79,
   "id": "7cfcff94",
   "metadata": {
    "scrolled": true
   },
   "outputs": [
    {
     "data": {
      "text/html": [
       "<div>\n",
       "<style scoped>\n",
       "    .dataframe tbody tr th:only-of-type {\n",
       "        vertical-align: middle;\n",
       "    }\n",
       "\n",
       "    .dataframe tbody tr th {\n",
       "        vertical-align: top;\n",
       "    }\n",
       "\n",
       "    .dataframe thead th {\n",
       "        text-align: right;\n",
       "    }\n",
       "</style>\n",
       "<table border=\"1\" class=\"dataframe\">\n",
       "  <thead>\n",
       "    <tr style=\"text-align: right;\">\n",
       "      <th></th>\n",
       "      <th>구매금액</th>\n",
       "      <th>상품배치</th>\n",
       "    </tr>\n",
       "    <tr>\n",
       "      <th>고객ID</th>\n",
       "      <th></th>\n",
       "      <th></th>\n",
       "    </tr>\n",
       "  </thead>\n",
       "  <tbody>\n",
       "    <tr>\n",
       "      <th>C-503</th>\n",
       "      <td>0</td>\n",
       "      <td>C</td>\n",
       "    </tr>\n",
       "    <tr>\n",
       "      <th>C-504</th>\n",
       "      <td>0</td>\n",
       "      <td>C</td>\n",
       "    </tr>\n",
       "    <tr>\n",
       "      <th>C-505</th>\n",
       "      <td>0</td>\n",
       "      <td>C</td>\n",
       "    </tr>\n",
       "    <tr>\n",
       "      <th>C-506</th>\n",
       "      <td>21363</td>\n",
       "      <td>C</td>\n",
       "    </tr>\n",
       "    <tr>\n",
       "      <th>C-507</th>\n",
       "      <td>0</td>\n",
       "      <td>C</td>\n",
       "    </tr>\n",
       "  </tbody>\n",
       "</table>\n",
       "</div>"
      ],
      "text/plain": [
       "        구매금액 상품배치\n",
       "고객ID             \n",
       "C-503      0    C\n",
       "C-504      0    C\n",
       "C-505      0    C\n",
       "C-506  21363    C\n",
       "C-507      0    C"
      ]
     },
     "execution_count": 79,
     "metadata": {},
     "output_type": "execute_result"
    }
   ],
   "source": [
    "placement=pd.concat([placement_A,placement_B,placement_C],axis=0,ignore_index=False)\n",
    "placement.head()\n",
    "placement.tail()"
   ]
  },
  {
   "cell_type": "code",
   "execution_count": 82,
   "id": "e0461aa0",
   "metadata": {},
   "outputs": [],
   "source": [
    "# 구매여부 컬럼 추가\n",
    "placement['구매여부']=(placement['구매금액']!=0).astype(int)"
   ]
  },
  {
   "cell_type": "code",
   "execution_count": 83,
   "id": "65d469ee",
   "metadata": {},
   "outputs": [
    {
     "data": {
      "text/html": [
       "<div>\n",
       "<style scoped>\n",
       "    .dataframe tbody tr th:only-of-type {\n",
       "        vertical-align: middle;\n",
       "    }\n",
       "\n",
       "    .dataframe tbody tr th {\n",
       "        vertical-align: top;\n",
       "    }\n",
       "\n",
       "    .dataframe thead th {\n",
       "        text-align: right;\n",
       "    }\n",
       "</style>\n",
       "<table border=\"1\" class=\"dataframe\">\n",
       "  <thead>\n",
       "    <tr style=\"text-align: right;\">\n",
       "      <th></th>\n",
       "      <th>구매금액</th>\n",
       "      <th>상품배치</th>\n",
       "      <th>구매여부</th>\n",
       "    </tr>\n",
       "    <tr>\n",
       "      <th>고객ID</th>\n",
       "      <th></th>\n",
       "      <th></th>\n",
       "      <th></th>\n",
       "    </tr>\n",
       "  </thead>\n",
       "  <tbody>\n",
       "    <tr>\n",
       "      <th>C-1</th>\n",
       "      <td>20459</td>\n",
       "      <td>A</td>\n",
       "      <td>1</td>\n",
       "    </tr>\n",
       "    <tr>\n",
       "      <th>C-2</th>\n",
       "      <td>0</td>\n",
       "      <td>A</td>\n",
       "      <td>0</td>\n",
       "    </tr>\n",
       "    <tr>\n",
       "      <th>C-3</th>\n",
       "      <td>19726</td>\n",
       "      <td>A</td>\n",
       "      <td>1</td>\n",
       "    </tr>\n",
       "    <tr>\n",
       "      <th>C-4</th>\n",
       "      <td>0</td>\n",
       "      <td>A</td>\n",
       "      <td>0</td>\n",
       "    </tr>\n",
       "    <tr>\n",
       "      <th>C-5</th>\n",
       "      <td>19049</td>\n",
       "      <td>A</td>\n",
       "      <td>1</td>\n",
       "    </tr>\n",
       "  </tbody>\n",
       "</table>\n",
       "</div>"
      ],
      "text/plain": [
       "       구매금액 상품배치  구매여부\n",
       "고객ID                  \n",
       "C-1   20459    A     1\n",
       "C-2       0    A     0\n",
       "C-3   19726    A     1\n",
       "C-4       0    A     0\n",
       "C-5   19049    A     1"
      ]
     },
     "execution_count": 83,
     "metadata": {},
     "output_type": "execute_result"
    }
   ],
   "source": [
    "placement.head()"
   ]
  },
  {
   "cell_type": "markdown",
   "id": "339d4b85",
   "metadata": {},
   "source": [
    "### 상품배치와 구매여부간의 관계\n",
    "- 범주형 변수이므로 두 변수간의 독립성 검정 - 카이제곱\n",
    "- 귀무가설 : 두 변수는 독립적이다\n",
    "- 대립가설 : 두 변수는 종속적이다"
   ]
  },
  {
   "cell_type": "code",
   "execution_count": 85,
   "id": "375fcf7c",
   "metadata": {},
   "outputs": [
    {
     "data": {
      "text/html": [
       "<div>\n",
       "<style scoped>\n",
       "    .dataframe tbody tr th:only-of-type {\n",
       "        vertical-align: middle;\n",
       "    }\n",
       "\n",
       "    .dataframe tbody tr th {\n",
       "        vertical-align: top;\n",
       "    }\n",
       "\n",
       "    .dataframe thead th {\n",
       "        text-align: right;\n",
       "    }\n",
       "</style>\n",
       "<table border=\"1\" class=\"dataframe\">\n",
       "  <thead>\n",
       "    <tr style=\"text-align: right;\">\n",
       "      <th>구매여부</th>\n",
       "      <th>0</th>\n",
       "      <th>1</th>\n",
       "    </tr>\n",
       "    <tr>\n",
       "      <th>상품배치</th>\n",
       "      <th></th>\n",
       "      <th></th>\n",
       "    </tr>\n",
       "  </thead>\n",
       "  <tbody>\n",
       "    <tr>\n",
       "      <th>A</th>\n",
       "      <td>96</td>\n",
       "      <td>102</td>\n",
       "    </tr>\n",
       "    <tr>\n",
       "      <th>B</th>\n",
       "      <td>92</td>\n",
       "      <td>68</td>\n",
       "    </tr>\n",
       "    <tr>\n",
       "      <th>C</th>\n",
       "      <td>89</td>\n",
       "      <td>59</td>\n",
       "    </tr>\n",
       "  </tbody>\n",
       "</table>\n",
       "</div>"
      ],
      "text/plain": [
       "구매여부   0    1\n",
       "상품배치         \n",
       "A     96  102\n",
       "B     92   68\n",
       "C     89   59"
      ]
     },
     "execution_count": 85,
     "metadata": {},
     "output_type": "execute_result"
    }
   ],
   "source": [
    "# 교차테이블 생성\n",
    "cross_table=pd.crosstab(placement['상품배치'],placement['구매여부'])\n",
    "cross_table"
   ]
  },
  {
   "cell_type": "code",
   "execution_count": 87,
   "id": "6aad7df0",
   "metadata": {},
   "outputs": [],
   "source": [
    "obs=cross_table.values\n",
    "stat,p,dof,exp=chi2_contingency(obs,correction=False)"
   ]
  },
  {
   "cell_type": "code",
   "execution_count": null,
   "id": "6650a3af",
   "metadata": {},
   "outputs": [],
   "source": [
    "p\n",
    "# p-value가 0.06으로 구매여부와 상품배치는 유의한 차이가 있다고보기 어렵다\n",
    "# 상품 B와 C의 차이가 크지않아서 유의미한 관계가 없다고 나왔을 가능성이 크다"
   ]
  },
  {
   "cell_type": "code",
   "execution_count": 88,
   "id": "f6c92519",
   "metadata": {
    "scrolled": true
   },
   "outputs": [
    {
     "data": {
      "text/html": [
       "<div>\n",
       "<style scoped>\n",
       "    .dataframe tbody tr th:only-of-type {\n",
       "        vertical-align: middle;\n",
       "    }\n",
       "\n",
       "    .dataframe tbody tr th {\n",
       "        vertical-align: top;\n",
       "    }\n",
       "\n",
       "    .dataframe thead th {\n",
       "        text-align: right;\n",
       "    }\n",
       "</style>\n",
       "<table border=\"1\" class=\"dataframe\">\n",
       "  <thead>\n",
       "    <tr style=\"text-align: right;\">\n",
       "      <th>구매여부</th>\n",
       "      <th>0</th>\n",
       "      <th>1</th>\n",
       "    </tr>\n",
       "    <tr>\n",
       "      <th>상품배치</th>\n",
       "      <th></th>\n",
       "      <th></th>\n",
       "    </tr>\n",
       "  </thead>\n",
       "  <tbody>\n",
       "    <tr>\n",
       "      <th>A</th>\n",
       "      <td>108.391304</td>\n",
       "      <td>89.608696</td>\n",
       "    </tr>\n",
       "    <tr>\n",
       "      <th>B</th>\n",
       "      <td>87.588933</td>\n",
       "      <td>72.411067</td>\n",
       "    </tr>\n",
       "    <tr>\n",
       "      <th>C</th>\n",
       "      <td>81.019763</td>\n",
       "      <td>66.980237</td>\n",
       "    </tr>\n",
       "  </tbody>\n",
       "</table>\n",
       "</div>"
      ],
      "text/plain": [
       "구매여부           0          1\n",
       "상품배치                       \n",
       "A     108.391304  89.608696\n",
       "B      87.588933  72.411067\n",
       "C      81.019763  66.980237"
      ]
     },
     "execution_count": 88,
     "metadata": {},
     "output_type": "execute_result"
    }
   ],
   "source": [
    "# 기대값\n",
    "pd.DataFrame(exp,columns=cross_table.columns,index=cross_table.index)"
   ]
  },
  {
   "cell_type": "code",
   "execution_count": 90,
   "id": "73b07538",
   "metadata": {},
   "outputs": [],
   "source": [
    "sitemap_A=pd.read_csv('./data/AB테스트/사이트맵_A.csv',encoding='cp949')\n",
    "sitemap_B=pd.read_csv('./data/AB테스트/사이트맵_B.csv',encoding='cp949')\n",
    "sitemap_C=pd.read_csv('./data/AB테스트/사이트맵_C.csv',encoding='cp949')"
   ]
  },
  {
   "cell_type": "code",
   "execution_count": 91,
   "id": "3ddf29ce",
   "metadata": {},
   "outputs": [],
   "source": [
    "A_time=sitemap_A['체류시간(분)'].values\n",
    "B_time=sitemap_B['체류시간(분)'].values\n",
    "C_time=sitemap_C['체류시간(분)'].values"
   ]
  },
  {
   "cell_type": "code",
   "execution_count": 100,
   "id": "8efe32ce",
   "metadata": {},
   "outputs": [
    {
     "name": "stdout",
     "output_type": "stream",
     "text": [
      "사이트맵A 체류시간 평균 9.404255319148936\n",
      "사이트맵B 체류시간 평균 9.830645161290322\n",
      "사이트맵C 체류시간 평균 9.514285714285714\n"
     ]
    }
   ],
   "source": [
    "A_mean=A_time.mean()\n",
    "B_mean=B_time.mean()\n",
    "C_mean=C_time.mean()\n",
    "print('사이트맵A 체류시간 평균 {}\\n사이트맵B 체류시간 평균 {}\\n사이트맵C 체류시간 평균 {}'.format(A_mean,B_mean,C_mean))"
   ]
  },
  {
   "cell_type": "code",
   "execution_count": 104,
   "id": "1786778f",
   "metadata": {},
   "outputs": [
    {
     "data": {
      "text/plain": [
       "{'whiskers': [<matplotlib.lines.Line2D at 0x20d05d71fa0>,\n",
       "  <matplotlib.lines.Line2D at 0x20d05d7a2b0>,\n",
       "  <matplotlib.lines.Line2D at 0x20d05d833d0>,\n",
       "  <matplotlib.lines.Line2D at 0x20d05d836a0>,\n",
       "  <matplotlib.lines.Line2D at 0x20d05d8a7c0>,\n",
       "  <matplotlib.lines.Line2D at 0x20d05d8aa90>],\n",
       " 'caps': [<matplotlib.lines.Line2D at 0x20d05d7a580>,\n",
       "  <matplotlib.lines.Line2D at 0x20d05d7a850>,\n",
       "  <matplotlib.lines.Line2D at 0x20d05d83970>,\n",
       "  <matplotlib.lines.Line2D at 0x20d05d83c40>,\n",
       "  <matplotlib.lines.Line2D at 0x20d05d8ad60>,\n",
       "  <matplotlib.lines.Line2D at 0x20d05d91070>],\n",
       " 'boxes': [<matplotlib.lines.Line2D at 0x20d05d71cd0>,\n",
       "  <matplotlib.lines.Line2D at 0x20d05d83100>,\n",
       "  <matplotlib.lines.Line2D at 0x20d05d8a4f0>],\n",
       " 'medians': [<matplotlib.lines.Line2D at 0x20d05d7ab20>,\n",
       "  <matplotlib.lines.Line2D at 0x20d05d83f10>,\n",
       "  <matplotlib.lines.Line2D at 0x20d05d91340>],\n",
       " 'fliers': [<matplotlib.lines.Line2D at 0x20d05d7adf0>,\n",
       "  <matplotlib.lines.Line2D at 0x20d05d8a220>,\n",
       "  <matplotlib.lines.Line2D at 0x20d05d91610>],\n",
       " 'means': []}"
      ]
     },
     "execution_count": 104,
     "metadata": {},
     "output_type": "execute_result"
    },
    {
     "data": {
      "image/png": "[encoded data removed]",
      "text/plain": [
       "<Figure size 1440x360 with 1 Axes>"
      ]
     },
     "metadata": {
      "needs_background": "light"
     },
     "output_type": "display_data"
    }
   ],
   "source": [
    "plt.boxplot([A_time,B_time,C_time])\n"
   ]
  },
  {
   "cell_type": "code",
   "execution_count": 105,
   "id": "798d94ce",
   "metadata": {
    "scrolled": true
   },
   "outputs": [
    {
     "name": "stdout",
     "output_type": "stream",
     "text": [
      "ShapiroResult(statistic=0.9157226085662842, pvalue=6.613624314866229e-09)\n",
      "ShapiroResult(statistic=0.9712396860122681, pvalue=0.009464900940656662)\n",
      "ShapiroResult(statistic=0.9803875684738159, pvalue=0.12245512008666992)\n"
     ]
    }
   ],
   "source": [
    "# 모든 데이터가 정규성을 만족하지는 않는다 - 비모수적 방법\n",
    "print(shapiro(A_time))\n",
    "print(shapiro(B_time))\n",
    "print(shapiro(C_time))"
   ]
  },
  {
   "cell_type": "code",
   "execution_count": 107,
   "id": "5d5019ef",
   "metadata": {
    "scrolled": true
   },
   "outputs": [
    {
     "data": {
      "text/plain": [
       "LeveneResult(statistic=60.293391878247746, pvalue=1.0454410123159872e-23)"
      ]
     },
     "execution_count": 107,
     "metadata": {},
     "output_type": "execute_result"
    }
   ],
   "source": [
    "levene(A_time,B_time,C_time)\n",
    "# 등분산성 만족하지 않음"
   ]
  },
  {
   "cell_type": "code",
   "execution_count": 108,
   "id": "789876fa",
   "metadata": {},
   "outputs": [
    {
     "name": "stdout",
     "output_type": "stream",
     "text": [
      "KruskalResult(statistic=3.9357302803694645, pvalue=0.13975489507574576)\n"
     ]
    }
   ],
   "source": [
    "print(kruskal(A_time,B_time,C_time))\n",
    "# 세 집단 간 유의미한 차이가 존재하지 않는다"
   ]
  },
  {
   "cell_type": "code",
   "execution_count": null,
   "id": "fb7426c5",
   "metadata": {},
   "outputs": [],
   "source": [
    "sitemap_A = pd.read_csv(\"./data/AB테스트/사이트맵_A.csv\",encoding='cp949')\n",
    "sitemap_A.head()\n",
    "\n",
    "sitemap_B = pd.read_csv(\"./data/AB테스트/사이트맵_B.csv\",encoding='cp949')\n",
    "sitemap_B.head()\n",
    "\n",
    "sitemap_C = pd.read_csv(\"./data/AB테스트/사이트맵_C.csv\",encoding='cp949')\n",
    "sitemap_C.head()\n"
   ]
  },
  {
   "cell_type": "markdown",
   "id": "ebc7372e",
   "metadata": {},
   "source": [
    "할인 쿠폰의 효과 분석 - 대응표본 T 검정(쌍체표본 T 검정)"
   ]
  },
  {
   "cell_type": "code",
   "execution_count": 109,
   "id": "0e393831",
   "metadata": {},
   "outputs": [
    {
     "data": {
      "text/html": [
       "<div>\n",
       "<style scoped>\n",
       "    .dataframe tbody tr th:only-of-type {\n",
       "        vertical-align: middle;\n",
       "    }\n",
       "\n",
       "    .dataframe tbody tr th {\n",
       "        vertical-align: top;\n",
       "    }\n",
       "\n",
       "    .dataframe thead th {\n",
       "        text-align: right;\n",
       "    }\n",
       "</style>\n",
       "<table border=\"1\" class=\"dataframe\">\n",
       "  <thead>\n",
       "    <tr style=\"text-align: right;\">\n",
       "      <th></th>\n",
       "      <th>고객ID</th>\n",
       "      <th>발행전 구매 횟수</th>\n",
       "      <th>발행후 구매 횟수</th>\n",
       "    </tr>\n",
       "  </thead>\n",
       "  <tbody>\n",
       "    <tr>\n",
       "      <th>0</th>\n",
       "      <td>C-925</td>\n",
       "      <td>3</td>\n",
       "      <td>1</td>\n",
       "    </tr>\n",
       "    <tr>\n",
       "      <th>1</th>\n",
       "      <td>C-926</td>\n",
       "      <td>0</td>\n",
       "      <td>0</td>\n",
       "    </tr>\n",
       "    <tr>\n",
       "      <th>2</th>\n",
       "      <td>C-927</td>\n",
       "      <td>0</td>\n",
       "      <td>3</td>\n",
       "    </tr>\n",
       "    <tr>\n",
       "      <th>3</th>\n",
       "      <td>C-928</td>\n",
       "      <td>0</td>\n",
       "      <td>4</td>\n",
       "    </tr>\n",
       "    <tr>\n",
       "      <th>4</th>\n",
       "      <td>C-929</td>\n",
       "      <td>4</td>\n",
       "      <td>4</td>\n",
       "    </tr>\n",
       "  </tbody>\n",
       "</table>\n",
       "</div>"
      ],
      "text/plain": [
       "    고객ID  발행전 구매 횟수  발행후 구매 횟수\n",
       "0  C-925          3          1\n",
       "1  C-926          0          0\n",
       "2  C-927          0          3\n",
       "3  C-928          0          4\n",
       "4  C-929          4          4"
      ]
     },
     "execution_count": 109,
     "metadata": {},
     "output_type": "execute_result"
    }
   ],
   "source": [
    "df = pd.read_csv(\"./data/AB테스트/할인쿠폰발행효과.csv\", encoding='cp949')\n",
    "df.head()\n"
   ]
  },
  {
   "cell_type": "code",
   "execution_count": 110,
   "id": "20922180",
   "metadata": {},
   "outputs": [
    {
     "data": {
      "text/plain": [
       "Text(0, 0.5, '구매 횟수')"
      ]
     },
     "execution_count": 110,
     "metadata": {},
     "output_type": "execute_result"
    },
    {
     "data": {
      "image/png": "[encoded data removed]",
      "text/plain": [
       "<Figure size 1440x360 with 1 Axes>"
      ]
     },
     "metadata": {
      "needs_background": "light"
     },
     "output_type": "display_data"
    }
   ],
   "source": [
    "plt.boxplot([df['발행전 구매 횟수'], df['발행후 구매 횟수']])\n",
    "plt.xticks([1, 2], ['발행전', '발행후'])\n",
    "plt.ylabel(\"구매 횟수\")\n"
   ]
  },
  {
   "cell_type": "code",
   "execution_count": 111,
   "id": "2e57a600",
   "metadata": {},
   "outputs": [
    {
     "data": {
      "text/plain": [
       "ShapiroResult(statistic=0.962637186050415, pvalue=0.00035276805283501744)"
      ]
     },
     "execution_count": 111,
     "metadata": {},
     "output_type": "execute_result"
    }
   ],
   "source": [
    "# 정규성 검정 - 정규성만족X\n",
    "shapiro(df['발행후 구매 횟수']-df['발행전 구매 횟수'])"
   ]
  },
  {
   "cell_type": "code",
   "execution_count": 113,
   "id": "fd1d9616",
   "metadata": {},
   "outputs": [
    {
     "data": {
      "text/plain": [
       "WilcoxonResult(statistic=1382.0, pvalue=6.449740420318467e-10)"
      ]
     },
     "execution_count": 113,
     "metadata": {},
     "output_type": "execute_result"
    }
   ],
   "source": [
    "# 정규성이 없으므로 비모수적인 방법 - wilcoxon 검정 수행\n",
    "# p-value 0.05이하 - 귀무가설 기각\n",
    "wilcoxon(df['발행후 구매 횟수'],df['발행전 구매 횟수'])"
   ]
  },
  {
   "cell_type": "markdown",
   "id": "8c3e6f44",
   "metadata": {},
   "source": [
    "### 체류시간과 구매금액 간 관계 분석 - 상관분석"
   ]
  },
  {
   "cell_type": "code",
   "execution_count": 116,
   "id": "4e6802f8",
   "metadata": {},
   "outputs": [
    {
     "data": {
      "text/html": [
       "<div>\n",
       "<style scoped>\n",
       "    .dataframe tbody tr th:only-of-type {\n",
       "        vertical-align: middle;\n",
       "    }\n",
       "\n",
       "    .dataframe tbody tr th {\n",
       "        vertical-align: top;\n",
       "    }\n",
       "\n",
       "    .dataframe thead th {\n",
       "        text-align: right;\n",
       "    }\n",
       "</style>\n",
       "<table border=\"1\" class=\"dataframe\">\n",
       "  <thead>\n",
       "    <tr style=\"text-align: right;\">\n",
       "      <th></th>\n",
       "      <th>고객ID</th>\n",
       "      <th>구매금액</th>\n",
       "      <th>체류시간</th>\n",
       "    </tr>\n",
       "  </thead>\n",
       "  <tbody>\n",
       "    <tr>\n",
       "      <th>0</th>\n",
       "      <td>C-1079</td>\n",
       "      <td>78625</td>\n",
       "      <td>9</td>\n",
       "    </tr>\n",
       "    <tr>\n",
       "      <th>1</th>\n",
       "      <td>C-1080</td>\n",
       "      <td>0</td>\n",
       "      <td>9</td>\n",
       "    </tr>\n",
       "    <tr>\n",
       "      <th>2</th>\n",
       "      <td>C-1081</td>\n",
       "      <td>105173</td>\n",
       "      <td>12</td>\n",
       "    </tr>\n",
       "    <tr>\n",
       "      <th>3</th>\n",
       "      <td>C-1082</td>\n",
       "      <td>0</td>\n",
       "      <td>14</td>\n",
       "    </tr>\n",
       "    <tr>\n",
       "      <th>4</th>\n",
       "      <td>C-1083</td>\n",
       "      <td>0</td>\n",
       "      <td>10</td>\n",
       "    </tr>\n",
       "  </tbody>\n",
       "</table>\n",
       "</div>"
      ],
      "text/plain": [
       "     고객ID    구매금액  체류시간\n",
       "0  C-1079   78625     9\n",
       "1  C-1080       0     9\n",
       "2  C-1081  105173    12\n",
       "3  C-1082       0    14\n",
       "4  C-1083       0    10"
      ]
     },
     "execution_count": 116,
     "metadata": {},
     "output_type": "execute_result"
    }
   ],
   "source": [
    "df = pd.read_csv(\"./data/AB테스트/체류시간_구매금액.csv\", encoding='cp949')\n",
    "df.head()\n"
   ]
  },
  {
   "cell_type": "code",
   "execution_count": 117,
   "id": "84f77996",
   "metadata": {},
   "outputs": [
    {
     "data": {
      "text/plain": [
       "<AxesSubplot:xlabel='체류시간', ylabel='구매금액'>"
      ]
     },
     "execution_count": 117,
     "metadata": {},
     "output_type": "execute_result"
    },
    {
     "data": {
      "image/png": "[encoded data removed]",
      "text/plain": [
       "<Figure size 1440x360 with 1 Axes>"
      ]
     },
     "metadata": {
      "needs_background": "light"
     },
     "output_type": "display_data"
    }
   ],
   "source": [
    "df.plot(kind='scatter',x='체류시간',y='구매금액')"
   ]
  },
  {
   "cell_type": "code",
   "execution_count": 118,
   "id": "490d3387",
   "metadata": {},
   "outputs": [
    {
     "data": {
      "text/html": [
       "<div>\n",
       "<style scoped>\n",
       "    .dataframe tbody tr th:only-of-type {\n",
       "        vertical-align: middle;\n",
       "    }\n",
       "\n",
       "    .dataframe tbody tr th {\n",
       "        vertical-align: top;\n",
       "    }\n",
       "\n",
       "    .dataframe thead th {\n",
       "        text-align: right;\n",
       "    }\n",
       "</style>\n",
       "<table border=\"1\" class=\"dataframe\">\n",
       "  <thead>\n",
       "    <tr style=\"text-align: right;\">\n",
       "      <th></th>\n",
       "      <th>구매금액</th>\n",
       "      <th>체류시간</th>\n",
       "    </tr>\n",
       "  </thead>\n",
       "  <tbody>\n",
       "    <tr>\n",
       "      <th>구매금액</th>\n",
       "      <td>1.000000</td>\n",
       "      <td>0.320852</td>\n",
       "    </tr>\n",
       "    <tr>\n",
       "      <th>체류시간</th>\n",
       "      <td>0.320852</td>\n",
       "      <td>1.000000</td>\n",
       "    </tr>\n",
       "  </tbody>\n",
       "</table>\n",
       "</div>"
      ],
      "text/plain": [
       "          구매금액      체류시간\n",
       "구매금액  1.000000  0.320852\n",
       "체류시간  0.320852  1.000000"
      ]
     },
     "execution_count": 118,
     "metadata": {},
     "output_type": "execute_result"
    }
   ],
   "source": [
    "df.corr(method='pearson')"
   ]
  },
  {
   "cell_type": "code",
   "execution_count": 119,
   "id": "27373fae",
   "metadata": {},
   "outputs": [],
   "source": [
    "df_without_zero=df.loc[df['구매금액']!=0]"
   ]
  },
  {
   "cell_type": "code",
   "execution_count": 120,
   "id": "b39cde2f",
   "metadata": {},
   "outputs": [
    {
     "data": {
      "text/html": [
       "<div>\n",
       "<style scoped>\n",
       "    .dataframe tbody tr th:only-of-type {\n",
       "        vertical-align: middle;\n",
       "    }\n",
       "\n",
       "    .dataframe tbody tr th {\n",
       "        vertical-align: top;\n",
       "    }\n",
       "\n",
       "    .dataframe thead th {\n",
       "        text-align: right;\n",
       "    }\n",
       "</style>\n",
       "<table border=\"1\" class=\"dataframe\">\n",
       "  <thead>\n",
       "    <tr style=\"text-align: right;\">\n",
       "      <th></th>\n",
       "      <th>구매금액</th>\n",
       "      <th>체류시간</th>\n",
       "    </tr>\n",
       "  </thead>\n",
       "  <tbody>\n",
       "    <tr>\n",
       "      <th>구매금액</th>\n",
       "      <td>1.000000</td>\n",
       "      <td>0.924526</td>\n",
       "    </tr>\n",
       "    <tr>\n",
       "      <th>체류시간</th>\n",
       "      <td>0.924526</td>\n",
       "      <td>1.000000</td>\n",
       "    </tr>\n",
       "  </tbody>\n",
       "</table>\n",
       "</div>"
      ],
      "text/plain": [
       "          구매금액      체류시간\n",
       "구매금액  1.000000  0.924526\n",
       "체류시간  0.924526  1.000000"
      ]
     },
     "execution_count": 120,
     "metadata": {},
     "output_type": "execute_result"
    }
   ],
   "source": [
    "df_without_zero.corr(method='pearson')"
   ]
  },
  {
   "cell_type": "code",
   "execution_count": 122,
   "id": "25e0dcb5",
   "metadata": {},
   "outputs": [
    {
     "data": {
      "text/html": [
       "<div>\n",
       "<style scoped>\n",
       "    .dataframe tbody tr th:only-of-type {\n",
       "        vertical-align: middle;\n",
       "    }\n",
       "\n",
       "    .dataframe tbody tr th {\n",
       "        vertical-align: top;\n",
       "    }\n",
       "\n",
       "    .dataframe thead th {\n",
       "        text-align: right;\n",
       "    }\n",
       "</style>\n",
       "<table border=\"1\" class=\"dataframe\">\n",
       "  <thead>\n",
       "    <tr style=\"text-align: right;\">\n",
       "      <th></th>\n",
       "      <th>구매여부</th>\n",
       "      <th>버튼타입</th>\n",
       "      <th>고객 수</th>\n",
       "    </tr>\n",
       "  </thead>\n",
       "  <tbody>\n",
       "    <tr>\n",
       "      <th>0</th>\n",
       "      <td>구매</td>\n",
       "      <td>A</td>\n",
       "      <td>9</td>\n",
       "    </tr>\n",
       "    <tr>\n",
       "      <th>1</th>\n",
       "      <td>NaN</td>\n",
       "      <td>B</td>\n",
       "      <td>9</td>\n",
       "    </tr>\n",
       "    <tr>\n",
       "      <th>2</th>\n",
       "      <td>NaN</td>\n",
       "      <td>C</td>\n",
       "      <td>15</td>\n",
       "    </tr>\n",
       "    <tr>\n",
       "      <th>3</th>\n",
       "      <td>비구매</td>\n",
       "      <td>A</td>\n",
       "      <td>93</td>\n",
       "    </tr>\n",
       "    <tr>\n",
       "      <th>4</th>\n",
       "      <td>NaN</td>\n",
       "      <td>B</td>\n",
       "      <td>85</td>\n",
       "    </tr>\n",
       "  </tbody>\n",
       "</table>\n",
       "</div>"
      ],
      "text/plain": [
       "  구매여부 버튼타입  고객 수\n",
       "0   구매    A     9\n",
       "1  NaN    B     9\n",
       "2  NaN    C    15\n",
       "3  비구매    A    93\n",
       "4  NaN    B    85"
      ]
     },
     "execution_count": 122,
     "metadata": {},
     "output_type": "execute_result"
    }
   ],
   "source": [
    "df = pd.read_excel(\"./data/AB테스트/구매여부_버튼타입_통계.xlsx\")\n",
    "df.head()\n",
    "# 구매버튼의 디자인을 A,B,C type "
   ]
  },
  {
   "cell_type": "code",
   "execution_count": 126,
   "id": "7f7061ec",
   "metadata": {},
   "outputs": [],
   "source": [
    "df.fillna(method='ffill',inplace=True)"
   ]
  },
  {
   "cell_type": "code",
   "execution_count": 127,
   "id": "47c4d1aa",
   "metadata": {},
   "outputs": [],
   "source": [
    "cross_table=pd.pivot_table(df,index='구매여부',columns='버튼타입',\n",
    "                          values='고객 수')"
   ]
  },
  {
   "cell_type": "code",
   "execution_count": 128,
   "id": "52b45af4",
   "metadata": {},
   "outputs": [
    {
     "data": {
      "text/html": [
       "<div>\n",
       "<style scoped>\n",
       "    .dataframe tbody tr th:only-of-type {\n",
       "        vertical-align: middle;\n",
       "    }\n",
       "\n",
       "    .dataframe tbody tr th {\n",
       "        vertical-align: top;\n",
       "    }\n",
       "\n",
       "    .dataframe thead th {\n",
       "        text-align: right;\n",
       "    }\n",
       "</style>\n",
       "<table border=\"1\" class=\"dataframe\">\n",
       "  <thead>\n",
       "    <tr style=\"text-align: right;\">\n",
       "      <th>버튼타입</th>\n",
       "      <th>A</th>\n",
       "      <th>B</th>\n",
       "      <th>C</th>\n",
       "    </tr>\n",
       "    <tr>\n",
       "      <th>구매여부</th>\n",
       "      <th></th>\n",
       "      <th></th>\n",
       "      <th></th>\n",
       "    </tr>\n",
       "  </thead>\n",
       "  <tbody>\n",
       "    <tr>\n",
       "      <th>구매</th>\n",
       "      <td>9</td>\n",
       "      <td>9</td>\n",
       "      <td>15</td>\n",
       "    </tr>\n",
       "    <tr>\n",
       "      <th>비구매</th>\n",
       "      <td>93</td>\n",
       "      <td>85</td>\n",
       "      <td>89</td>\n",
       "    </tr>\n",
       "  </tbody>\n",
       "</table>\n",
       "</div>"
      ],
      "text/plain": [
       "버튼타입   A   B   C\n",
       "구매여부            \n",
       "구매     9   9  15\n",
       "비구매   93  85  89"
      ]
     },
     "execution_count": 128,
     "metadata": {},
     "output_type": "execute_result"
    }
   ],
   "source": [
    "cross_table"
   ]
  },
  {
   "cell_type": "code",
   "execution_count": 129,
   "id": "dc3c88a0",
   "metadata": {},
   "outputs": [
    {
     "name": "stdout",
     "output_type": "stream",
     "text": [
      "0.38033325575735993\n"
     ]
    }
   ],
   "source": [
    "obs = cross_table.values\n",
    "statistics, pvalue, dof, expected = chi2_contingency(obs)\n",
    "print(pvalue) # pvalue가 0.38로 구매여부와 버튼타입 간에는 관계가 없음을 확인\n"
   ]
  }
 ],
 "metadata": {
  "kernelspec": {
   "display_name": "Python 3 (ipykernel)",
   "language": "python",
   "name": "python3"
  },
  "language_info": {
   "codemirror_mode": {
    "name": "ipython",
    "version": 3
   },
   "file_extension": ".py",
   "mimetype": "text/x-python",
   "name": "python",
   "nbconvert_exporter": "python",
   "pygments_lexer": "ipython3",
   "version": "3.9.12"
  }
 },
 "nbformat": 4,
 "nbformat_minor": 5
}
